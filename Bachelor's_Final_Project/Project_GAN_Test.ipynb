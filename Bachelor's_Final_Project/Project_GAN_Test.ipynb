{
  "cells": [
    {
      "cell_type": "markdown",
      "metadata": {
        "id": "view-in-github",
        "colab_type": "text"
      },
      "source": [
        "<a href=\"https://colab.research.google.com/github/arshambt/MachineLearning2023/blob/main/Bachelor's_Final_Project/Project_GAN_Test.ipynb\" target=\"_parent\"><img src=\"https://colab.research.google.com/assets/colab-badge.svg\" alt=\"Open In Colab\"/></a>"
      ]
    },
    {
      "cell_type": "markdown",
      "metadata": {
        "id": "0IPoD7hmbxQo"
      },
      "source": [
        "# tensorflow example"
      ]
    },
    {
      "cell_type": "code",
      "execution_count": null,
      "metadata": {
        "id": "pFB_4br_-msP"
      },
      "outputs": [],
      "source": [
        "import tensorflow as tf\n",
        "import numpy as np\n",
        "from tensorflow.keras import layers\n",
        "\n",
        "# Create the discriminator\n",
        "discriminator = tf.keras.Sequential(\n",
        "    [\n",
        "        tf.keras.Input(shape=(28, 28, 1)),\n",
        "        layers.Conv2D(64, (3, 3), strides=(2, 2), padding=\"same\"),\n",
        "        layers.LeakyReLU(alpha=0.2),\n",
        "        layers.Conv2D(128, (3, 3), strides=(2, 2), padding=\"same\"),\n",
        "        layers.LeakyReLU(alpha=0.2),\n",
        "        layers.GlobalMaxPooling2D(),\n",
        "        layers.Dense(1),\n",
        "    ],\n",
        "    name=\"discriminator\",\n",
        ")\n",
        "\n",
        "# Create the generator\n",
        "latent_dim = 128\n",
        "generator = tf.keras.Sequential(\n",
        "    [\n",
        "        tf.keras.Input(shape=(latent_dim,)),\n",
        "        # We want to generate 128 coefficients to reshape into a 7x7x128 map\n",
        "        layers.Dense(7 * 7 * 128),\n",
        "        layers.LeakyReLU(alpha=0.2),\n",
        "        layers.Reshape((7, 7, 128)),\n",
        "        layers.Conv2DTranspose(128, (4, 4), strides=(2, 2), padding=\"same\"),\n",
        "        layers.LeakyReLU(alpha=0.2),\n",
        "        layers.Conv2DTranspose(128, (4, 4), strides=(2, 2), padding=\"same\"),\n",
        "        layers.LeakyReLU(alpha=0.2),\n",
        "        layers.Conv2D(1, (7, 7), padding=\"same\", activation=\"sigmoid\"),\n",
        "    ],\n",
        "    name=\"generator\",\n",
        ")\n"
      ]
    },
    {
      "cell_type": "code",
      "execution_count": null,
      "metadata": {
        "id": "en5sI7yp-ya_"
      },
      "outputs": [],
      "source": [
        "class GAN(tf.keras.Model):\n",
        "    def __init__(self, discriminator, generator, latent_dim):\n",
        "        super().__init__()\n",
        "        self.discriminator = discriminator\n",
        "        self.generator = generator\n",
        "        self.latent_dim = latent_dim\n",
        "        self.d_loss_tracker = tf.keras.metrics.Mean(name=\"d_loss\")\n",
        "        self.g_loss_tracker = tf.keras.metrics.Mean(name=\"g_loss\")\n",
        "\n",
        "    def compile(self, d_optimizer, g_optimizer, loss_fn):\n",
        "        super().compile()\n",
        "        self.d_optimizer = d_optimizer\n",
        "        self.g_optimizer = g_optimizer\n",
        "        self.loss_fn = loss_fn\n",
        "\n",
        "    def train_step(self, real_images):\n",
        "        if isinstance(real_images, tuple):\n",
        "            real_images = real_images[0]\n",
        "        # Sample random points in the latent space\n",
        "        batch_size = tf.shape(real_images)[0]\n",
        "        random_latent_vectors = tf.random.normal(shape=(batch_size, self.latent_dim))\n",
        "\n",
        "        # Decode them to fake images\n",
        "        generated_images = self.generator(random_latent_vectors)\n",
        "\n",
        "        # Combine them with real images\n",
        "        combined_images = tf.concat([generated_images, real_images], axis=0)\n",
        "\n",
        "        # Assemble labels discriminating real from fake images\n",
        "        labels = tf.concat(\n",
        "            [tf.ones((batch_size, 1)), tf.zeros((batch_size, 1))], axis=0\n",
        "        )\n",
        "        # Add random noise to the labels - important trick!\n",
        "        labels += 0.05 * tf.random.uniform(tf.shape(labels))\n",
        "\n",
        "        # Train the discriminator\n",
        "        with tf.GradientTape() as tape:\n",
        "            predictions = self.discriminator(combined_images)\n",
        "            d_loss = self.loss_fn(labels, predictions)\n",
        "        grads = tape.gradient(d_loss, self.discriminator.trainable_weights)\n",
        "        self.d_optimizer.apply_gradients(\n",
        "            zip(grads, self.discriminator.trainable_weights)\n",
        "        )\n",
        "\n",
        "        # Sample random points in the latent space\n",
        "        random_latent_vectors = tf.random.normal(shape=(batch_size, self.latent_dim))\n",
        "\n",
        "        # Assemble labels that say \"all real images\"\n",
        "        misleading_labels = tf.zeros((batch_size, 1))\n",
        "\n",
        "        # Train the generator (note that we should *not* update the weights\n",
        "        # of the discriminator)!\n",
        "        with tf.GradientTape() as tape:\n",
        "            predictions = self.discriminator(self.generator(random_latent_vectors))\n",
        "            g_loss = self.loss_fn(misleading_labels, predictions)\n",
        "        grads = tape.gradient(g_loss, self.generator.trainable_weights)\n",
        "        self.g_optimizer.apply_gradients(zip(grads, self.generator.trainable_weights))\n",
        "\n",
        "        # Update metrics and return their value.\n",
        "        self.d_loss_tracker.update_state(d_loss)\n",
        "        self.g_loss_tracker.update_state(g_loss)\n",
        "        return {\n",
        "            \"d_loss\": self.d_loss_tracker.result(),\n",
        "            \"g_loss\": self.g_loss_tracker.result(),\n",
        "        }\n"
      ]
    },
    {
      "cell_type": "code",
      "execution_count": null,
      "metadata": {
        "colab": {
          "background_save": true,
          "base_uri": "https://localhost:8080/"
        },
        "id": "Bh0GLL9Z_IJb",
        "outputId": "b2fd55f4-b6d4-4630-ea42-149d41e3db39"
      },
      "outputs": [
        {
          "name": "stdout",
          "output_type": "stream",
          "text": [
            "Downloading data from https://storage.googleapis.com/tensorflow/tf-keras-datasets/mnist.npz\n",
            "11490434/11490434 [==============================] - 1s 0us/step\n",
            "Epoch 1/22\n",
            "50/50 [==============================] - 119s 2s/step - d_loss: 0.5358 - g_loss: 0.7459\n",
            "Epoch 2/22\n",
            "50/50 [==============================] - 101s 2s/step - d_loss: 0.3327 - g_loss: 1.1281\n",
            "Epoch 3/22\n",
            "50/50 [==============================] - 105s 2s/step - d_loss: 0.3100 - g_loss: 1.3848\n",
            "Epoch 4/22\n",
            "50/50 [==============================] - 105s 2s/step - d_loss: 0.1240 - g_loss: 2.0308\n",
            "Epoch 5/22\n",
            "50/50 [==============================] - 105s 2s/step - d_loss: 0.0457 - g_loss: 3.3686\n",
            "Epoch 6/22\n",
            "50/50 [==============================] - 104s 2s/step - d_loss: 0.0301 - g_loss: 4.2623\n",
            "Epoch 7/22\n",
            "50/50 [==============================] - 104s 2s/step - d_loss: 0.3015 - g_loss: 2.3485\n",
            "Epoch 8/22\n",
            "50/50 [==============================] - 107s 2s/step - d_loss: 0.5703 - g_loss: 1.5432\n",
            "Epoch 9/22\n",
            "50/50 [==============================] - 103s 2s/step - d_loss: 0.5403 - g_loss: 1.1650\n",
            "Epoch 10/22\n",
            "50/50 [==============================] - 104s 2s/step - d_loss: 0.4193 - g_loss: 1.5775\n",
            "Epoch 11/22\n",
            "50/50 [==============================] - 103s 2s/step - d_loss: 0.4372 - g_loss: 1.4684\n",
            "Epoch 12/22\n",
            "50/50 [==============================] - 105s 2s/step - d_loss: 0.5284 - g_loss: 1.6716\n",
            "Epoch 13/22\n",
            "50/50 [==============================] - 108s 2s/step - d_loss: 0.5891 - g_loss: 1.2598\n",
            "Epoch 14/22\n",
            "50/50 [==============================] - 104s 2s/step - d_loss: 0.6897 - g_loss: 1.0913\n",
            "Epoch 15/22\n",
            "50/50 [==============================] - 105s 2s/step - d_loss: 0.4337 - g_loss: 1.5374\n",
            "Epoch 16/22\n",
            "50/50 [==============================] - 105s 2s/step - d_loss: 0.5512 - g_loss: 1.3923\n",
            "Epoch 17/22\n",
            "50/50 [==============================] - 105s 2s/step - d_loss: 0.5274 - g_loss: 1.3139\n",
            "Epoch 18/22\n",
            "50/50 [==============================] - 104s 2s/step - d_loss: 0.4383 - g_loss: 1.4703\n",
            "Epoch 19/22\n",
            "50/50 [==============================] - 104s 2s/step - d_loss: 0.4163 - g_loss: 1.4611\n",
            "Epoch 20/22\n",
            "50/50 [==============================] - 105s 2s/step - d_loss: 0.4120 - g_loss: 1.7397\n",
            "Epoch 21/22\n",
            "50/50 [==============================] - 105s 2s/step - d_loss: 0.3792 - g_loss: 1.8066\n",
            "Epoch 22/22\n",
            "50/50 [==============================] - 104s 2s/step - d_loss: 0.2406 - g_loss: 2.0890\n"
          ]
        },
        {
          "data": {
            "text/plain": [
              "<keras.src.callbacks.History at 0x7c2f06cc34c0>"
            ]
          },
          "execution_count": 3,
          "metadata": {},
          "output_type": "execute_result"
        }
      ],
      "source": [
        "# Prepare the dataset. We use both the training & test MNIST digits.\n",
        "batch_size = 64\n",
        "(x_train, _), (x_test, _) = tf.keras.datasets.mnist.load_data()\n",
        "all_digits = np.concatenate([x_train, x_test])\n",
        "all_digits = all_digits.astype(\"float32\") / 255.0\n",
        "all_digits = np.reshape(all_digits, (-1, 28, 28, 1))\n",
        "dataset = tf.data.Dataset.from_tensor_slices(all_digits)\n",
        "dataset = dataset.shuffle(buffer_size=1024).batch(batch_size)\n",
        "\n",
        "gan = GAN(discriminator=discriminator, generator=generator, latent_dim=latent_dim)\n",
        "gan.compile(\n",
        "    d_optimizer=tf.keras.optimizers.Adam(learning_rate=0.0003),\n",
        "    g_optimizer=tf.keras.optimizers.Adam(learning_rate=0.0003),\n",
        "    loss_fn=tf.keras.losses.BinaryCrossentropy(from_logits=True),\n",
        ")\n",
        "\n",
        "# To limit the execution time, we only train on 100 batches. You can train on\n",
        "# the entire dataset. You will need about 20 epochs to get nice results.\n",
        "gan.fit(dataset.take(50), epochs=22)\n"
      ]
    },
    {
      "cell_type": "markdown",
      "metadata": {
        "id": "nylVObBZb6D1"
      },
      "source": [
        "# Dataset_preprocessing"
      ]
    },
    {
      "cell_type": "code",
      "execution_count": null,
      "metadata": {
        "colab": {
          "background_save": true,
          "base_uri": "https://localhost:8080/"
        },
        "id": "nY8lfOgtaarp",
        "outputId": "8bffd4f7-6669-43e9-d2e5-eb4c29432f11"
      },
      "outputs": [
        {
          "name": "stdout",
          "output_type": "stream",
          "text": [
            "/bin/bash: line 1: nvidia-smi: command not found\n"
          ]
        }
      ],
      "source": [
        "!nvidia-smi"
      ]
    },
    {
      "cell_type": "code",
      "execution_count": null,
      "metadata": {
        "colab": {
          "background_save": true,
          "base_uri": "https://localhost:8080/",
          "height": 35
        },
        "id": "nCvCTNUJah3X",
        "outputId": "dce3f8a6-2215-44e9-a101-b18ea560583f"
      },
      "outputs": [
        {
          "data": {
            "application/vnd.google.colaboratory.intrinsic+json": {
              "type": "string"
            },
            "text/plain": [
              "''"
            ]
          },
          "execution_count": 5,
          "metadata": {},
          "output_type": "execute_result"
        }
      ],
      "source": [
        "import tensorflow as tf\n",
        "tf.test.gpu_device_name()"
      ]
    },
    {
      "cell_type": "code",
      "execution_count": null,
      "metadata": {
        "colab": {
          "background_save": true,
          "base_uri": "https://localhost:8080/"
        },
        "id": "AkEOmJ5vakJo",
        "outputId": "3c9853e1-9cc1-4673-effa-e84304249433"
      },
      "outputs": [
        {
          "data": {
            "text/plain": [
              "[]"
            ]
          },
          "execution_count": 6,
          "metadata": {},
          "output_type": "execute_result"
        }
      ],
      "source": [
        "tf.config.list_physical_devices('GPU')"
      ]
    },
    {
      "cell_type": "code",
      "execution_count": null,
      "metadata": {
        "colab": {
          "background_save": true
        },
        "id": "TUAn9mllcP6H"
      },
      "outputs": [],
      "source": [
        "import numpy as np\n",
        "import pandas as pd\n",
        "import matplotlib.pyplot as plt\n",
        "import cv2\n",
        "import tensorflow as tf\n",
        "from google.colab.patches import cv2_imshow"
      ]
    },
    {
      "cell_type": "code",
      "execution_count": null,
      "metadata": {
        "colab": {
          "base_uri": "https://localhost:8080/"
        },
        "id": "xxDu11-pIP55",
        "outputId": "cc5efd62-568c-4642-96d1-c062a291803b"
      },
      "outputs": [
        {
          "name": "stdout",
          "output_type": "stream",
          "text": [
            "Mounted at /content/gdrive\n"
          ]
        }
      ],
      "source": [
        "from google.colab import drive\n",
        "drive.mount('/content/gdrive')"
      ]
    },
    {
      "cell_type": "code",
      "execution_count": null,
      "metadata": {
        "colab": {
          "background_save": true
        },
        "id": "QWcJNsIzIWHE"
      },
      "outputs": [],
      "source": [
        "!ls gdrive/MyDrive"
      ]
    },
    {
      "cell_type": "code",
      "execution_count": null,
      "metadata": {
        "colab": {
          "background_save": true
        },
        "collapsed": true,
        "id": "MBhrcVkXKGEM"
      },
      "outputs": [],
      "source": [
        "!unzip gdrive/MyDrive/Dataset_1st_1.zip"
      ]
    },
    {
      "cell_type": "code",
      "execution_count": null,
      "metadata": {
        "colab": {
          "background_save": true
        },
        "collapsed": true,
        "id": "zN615nItY5x8"
      },
      "outputs": [],
      "source": [
        "!unzip gdrive/MyDrive/s-parameters.zip"
      ]
    },
    {
      "cell_type": "code",
      "execution_count": null,
      "metadata": {
        "colab": {
          "base_uri": "https://localhost:8080/"
        },
        "id": "kaWGFPNAqZbn",
        "outputId": "f07acb7e-d95f-4fb7-d46b-7eeffb4afad2"
      },
      "outputs": [
        {
          "name": "stdout",
          "output_type": "stream",
          "text": [
            "Requirement already satisfied: gdown in /usr/local/lib/python3.10/dist-packages (5.1.0)\n",
            "Collecting gdown\n",
            "  Downloading gdown-5.2.0-py3-none-any.whl (18 kB)\n",
            "Requirement already satisfied: beautifulsoup4 in /usr/local/lib/python3.10/dist-packages (from gdown) (4.12.3)\n",
            "Requirement already satisfied: filelock in /usr/local/lib/python3.10/dist-packages (from gdown) (3.14.0)\n",
            "Requirement already satisfied: requests[socks] in /usr/local/lib/python3.10/dist-packages (from gdown) (2.31.0)\n",
            "Requirement already satisfied: tqdm in /usr/local/lib/python3.10/dist-packages (from gdown) (4.66.4)\n",
            "Requirement already satisfied: soupsieve>1.2 in /usr/local/lib/python3.10/dist-packages (from beautifulsoup4->gdown) (2.5)\n",
            "Requirement already satisfied: charset-normalizer<4,>=2 in /usr/local/lib/python3.10/dist-packages (from requests[socks]->gdown) (3.3.2)\n",
            "Requirement already satisfied: idna<4,>=2.5 in /usr/local/lib/python3.10/dist-packages (from requests[socks]->gdown) (3.7)\n",
            "Requirement already satisfied: urllib3<3,>=1.21.1 in /usr/local/lib/python3.10/dist-packages (from requests[socks]->gdown) (2.0.7)\n",
            "Requirement already satisfied: certifi>=2017.4.17 in /usr/local/lib/python3.10/dist-packages (from requests[socks]->gdown) (2024.2.2)\n",
            "Requirement already satisfied: PySocks!=1.5.7,>=1.5.6 in /usr/local/lib/python3.10/dist-packages (from requests[socks]->gdown) (1.7.1)\n",
            "Installing collected packages: gdown\n",
            "  Attempting uninstall: gdown\n",
            "    Found existing installation: gdown 5.1.0\n",
            "    Uninstalling gdown-5.1.0:\n",
            "      Successfully uninstalled gdown-5.1.0\n",
            "Successfully installed gdown-5.2.0\n",
            "Downloading...\n",
            "From: https://drive.google.com/uc?id=1yY9PLMJ_e2tJdAB0VYtCR1dqUyvT289n\n",
            "To: /content/img_1.png\n",
            "100% 3.62k/3.62k [00:00<00:00, 11.5MB/s]\n",
            "/usr/local/lib/python3.10/dist-packages/gdown/download.py:33: MarkupResemblesLocatorWarning: The input looks more like a filename than markup. You may want to open this file and pass the filehandle into Beautiful Soup.\n",
            "  soup = bs4.BeautifulSoup(line, features=\"html.parser\")\n",
            "Failed to retrieve file url:\n",
            "\n",
            "\tCannot retrieve the public link of the file. You may need to change\n",
            "\tthe permission to 'Anyone with the link', or have had many accesses.\n",
            "\tCheck FAQ in https://github.com/wkentaro/gdown?tab=readme-ov-file#faq.\n",
            "\n",
            "You may still be able to access the file from the browser:\n",
            "\n",
            "\thttps://drive.google.com/uc?id=1bcdQ-04EcyXGVczyHb5oFkFRX487m3lf\n",
            "\n",
            "but Gdown can't. Please check connections and permissions.\n"
          ]
        }
      ],
      "source": [
        "!pip install --upgrade --no-cache-dir gdown\n",
        "!gdown 1yY9PLMJ_e2tJdAB0VYtCR1dqUyvT289n\n",
        "!gdown 1bcdQ-04EcyXGVczyHb5oFkFRX487m3lf"
      ]
    },
    {
      "cell_type": "code",
      "execution_count": null,
      "metadata": {
        "colab": {
          "base_uri": "https://localhost:8080/",
          "height": 267
        },
        "id": "p9iZdLV0pKOj",
        "outputId": "ed392982-e9ed-43a4-8fe5-b18bc72d312f"
      },
      "outputs": [
        {
          "data": {
            "image/png": "[encoded data removed]",
            "text/plain": [
              "<PIL.Image.Image image mode=L size=250x250>"
            ]
          },
          "metadata": {},
          "output_type": "display_data"
        }
      ],
      "source": [
        "img = cv2.imread('Dataset_1st/img_1.png')\n",
        "\n",
        "img2 = img[125:375, 125:375,0].copy()\n",
        "\n",
        "#cv2.resize(img, (30, 30))\n",
        "cv2_imshow(img[125:375, 125:375, 0])\n",
        "img3 = cv2.resize(img2, (30,30))\n"
      ]
    },
    {
      "cell_type": "markdown",
      "metadata": {
        "id": "WDXRIr0r0_GY"
      },
      "source": [
        "# 15 * 15"
      ]
    },
    {
      "cell_type": "code",
      "execution_count": null,
      "metadata": {
        "colab": {
          "base_uri": "https://localhost:8080/"
        },
        "id": "tp8-kMAI8ks9",
        "outputId": "8d3d059b-ebb3-46a5-b94a-2542170be0ad"
      },
      "outputs": [
        {
          "name": "stdout",
          "output_type": "stream",
          "text": [
            "(15, 15)\n",
            "500\n"
          ]
        }
      ],
      "source": [
        "train_images = []\n",
        "\n",
        "for i in range (1,501):\n",
        "  img = cv2.imread(f'Dataset_1st/img_{i}.png')\n",
        "  img = cv2.cvtColor(img, cv2.COLOR_BGR2GRAY)\n",
        "\n",
        "  img = img[129:251, 129:251]\n",
        "  ret, img = cv2.threshold(img, 245, 255, cv2.THRESH_BINARY)\n",
        "  img = img.astype(\"float32\") / 255.0\n",
        "  img = cv2.resize(img, (15,15))\n",
        "  #img = cv2.resize(img, (28,28))\n",
        "  #img = tf.expand_dims(img, axis=-1)\n",
        "  train_images.append(img)\n",
        "\n",
        "print(train_images[2].shape)\n",
        "print(len(train_images))"
      ]
    },
    {
      "cell_type": "code",
      "execution_count": null,
      "metadata": {
        "colab": {
          "base_uri": "https://localhost:8080/",
          "height": 448
        },
        "id": "a51KaB8la8lh",
        "outputId": "a2cb859e-76e0-4e75-f3a4-e9df07e9792b"
      },
      "outputs": [
        {
          "data": {
            "text/plain": [
              "<matplotlib.image.AxesImage at 0x7b1b57605600>"
            ]
          },
          "execution_count": 12,
          "metadata": {},
          "output_type": "execute_result"
        },
        {
          "data": {
            "image/png": "[encoded data removed]",
            "text/plain": [
              "<Figure size 640x480 with 1 Axes>"
            ]
          },
          "metadata": {},
          "output_type": "display_data"
        }
      ],
      "source": [
        "a = np.zeros((15,15,3))\n",
        "J=[]\n",
        "\n",
        "for i in range(250):\n",
        "  a = np.zeros((15,15,3))\n",
        "  a[:,:,0] = train_images[2*i]\n",
        "  a[:,:,1] = train_images[2*i+1]\n",
        "  a[:,:,2] = a[:,:,0]\n",
        "  J.append(a)\n",
        "\n",
        "J[1][:,:,0]\n",
        "plt.imshow(J[3][:,:,2], cmap='gray')"
      ]
    },
    {
      "cell_type": "markdown",
      "metadata": {
        "id": "hjQcMg2Y1P_M"
      },
      "source": [
        "# PLOT"
      ]
    },
    {
      "cell_type": "code",
      "execution_count": null,
      "metadata": {
        "colab": {
          "base_uri": "https://localhost:8080/",
          "height": 406
        },
        "id": "kH06hzuh6tI8",
        "outputId": "06fa0e11-316e-45ad-c2bc-045a90926103"
      },
      "outputs": [
        {
          "data": {
            "image/png": "[encoded data removed]",
            "text/plain": [
              "<Figure size 640x480 with 16 Axes>"
            ]
          },
          "metadata": {},
          "output_type": "display_data"
        }
      ],
      "source": [
        "for i in range(16):\n",
        "    ax = plt.subplot(4, 4, i + 1)\n",
        "    plt.imshow(train_images[i], cmap=\"gray\")\n",
        "    plt.xticks([])\n",
        "    plt.yticks([])"
      ]
    },
    {
      "cell_type": "code",
      "execution_count": null,
      "metadata": {
        "colab": {
          "base_uri": "https://localhost:8080/"
        },
        "id": "qng_yVqsT4cs",
        "outputId": "29c2fcc7-d052-4153-a025-5e8171066247"
      },
      "outputs": [
        {
          "name": "stdout",
          "output_type": "stream",
          "text": [
            "(16, 15, 15)\n"
          ]
        }
      ],
      "source": [
        "dataset = tf.data.Dataset.from_tensor_slices(train_images)\n",
        "dataset = dataset.batch(16)\n",
        "dataset = dataset.shuffle(50)\n",
        "j=[]\n",
        "for element in dataset:\n",
        "  j.append(element)\n",
        "\n",
        "print(j[10].shape)"
      ]
    },
    {
      "cell_type": "code",
      "execution_count": null,
      "metadata": {
        "colab": {
          "base_uri": "https://localhost:8080/"
        },
        "id": "WzDVoWlr7uRX",
        "outputId": "207b8386-934f-4bf3-f11b-82d58fe611cf"
      },
      "outputs": [
        {
          "name": "stdout",
          "output_type": "stream",
          "text": [
            "16\n",
            "16\n",
            "16\n",
            "16\n",
            "16\n",
            "16\n",
            "16\n",
            "16\n",
            "16\n",
            "16\n",
            "16\n",
            "16\n",
            "16\n",
            "16\n",
            "16\n",
            "16\n",
            "16\n",
            "16\n",
            "16\n",
            "4\n",
            "16\n",
            "16\n",
            "16\n",
            "16\n",
            "16\n",
            "16\n",
            "16\n",
            "16\n",
            "16\n",
            "16\n",
            "16\n",
            "16\n"
          ]
        }
      ],
      "source": [
        "for n, real_samples in enumerate(dataset):\n",
        "  i = real_samples.shape\n",
        "\n",
        "  print(i[0])"
      ]
    },
    {
      "cell_type": "code",
      "execution_count": null,
      "metadata": {
        "id": "nMDPIQhYZWZn"
      },
      "outputs": [],
      "source": [
        "import os\n",
        "import pandas as pd\n",
        "\n",
        "tr_m = []\n",
        "tr_ph = []\n",
        "\n",
        "for i in range(6):\n",
        "  with open(f's-parameters/test_{i+1}_1.txt', 'r') as f:\n",
        "    text = f.read()\n",
        "    tr_m.append(text)\n",
        "  with open(f's-parameters/test_{i+1}_2.txt', 'r') as f2:\n",
        "    text2 = f2.read()\n",
        "    tr_ph.append(text2)\n"
      ]
    },
    {
      "cell_type": "code",
      "execution_count": null,
      "metadata": {
        "colab": {
          "base_uri": "https://localhost:8080/"
        },
        "id": "qSUnHf8Riuu9",
        "outputId": "849de70d-850d-46b6-e62c-d296167f862b"
      },
      "outputs": [
        {
          "name": "stdout",
          "output_type": "stream",
          "text": [
            "0       -2.660353\n",
            "1       -2.623166\n",
            "2       -2.585975\n",
            "3       -2.548785\n",
            "4       -2.511600\n",
            "          ...    \n",
            "1999   -95.261803\n",
            "2000   -95.304302\n",
            "2001   -95.346925\n",
            "2002   -95.389675\n",
            "2003   -95.432553\n",
            "Name: 1, Length: 2004, dtype: float64\n"
          ]
        }
      ],
      "source": [
        "tr = []\n",
        "\n",
        "for i in range(6):\n",
        "  df_m = pd.read_csv(f's-parameters/test_{i+1}_1.txt', sep='\\s+', header=None, index_col=False)\n",
        "  df_ph = pd.read_csv(f's-parameters/test_{i+1}_2.txt', sep='\\s+', header=None, index_col=False)\n",
        "  df = pd.concat([df_m,df_ph], axis=0, ignore_index=True)\n",
        "  df = df.drop(0, axis=0)\n",
        "  df = df.drop(1, axis=0)\n",
        "  df = df.reset_index(drop=True)\n",
        "\n",
        "  v = pd.to_numeric(df[1], errors = 'coerce')\n",
        "\n",
        "  tr.append(v)\n",
        "\n",
        "print(v)\n"
      ]
    },
    {
      "cell_type": "code",
      "execution_count": null,
      "metadata": {
        "colab": {
          "base_uri": "https://localhost:8080/"
        },
        "id": "WxYPlt2OXzFT",
        "outputId": "0f595a99-d9ea-473a-ff05-27a694166724"
      },
      "outputs": [
        {
          "name": "stdout",
          "output_type": "stream",
          "text": [
            "tf.Tensor(\n",
            "[ -0.42029576  -0.44471994  -0.46979037 ... -97.042198   -97.08975\n",
            " -97.137515  ], shape=(2004,), dtype=float64)\n",
            "tf.Tensor(\n",
            "[ -9.5324251  -9.5687162  -9.6048777 ... -95.418545  -94.987812\n",
            " -94.512067 ], shape=(2004,), dtype=float64)\n",
            "tf.Tensor(\n",
            "[ -9.0412828  -9.014697   -8.9880174 ... -85.075884  -85.117092\n",
            " -85.158301 ], shape=(2004,), dtype=float64)\n",
            "tf.Tensor([-13.382558 -13.414224 -13.445791 ... -42.416388 -47.994139 -52.83704 ], shape=(2004,), dtype=float64)\n",
            "tf.Tensor(\n",
            "[ -4.1590062  -4.1498337  -4.1404861 ... -86.375132  -86.400552\n",
            " -86.425939 ], shape=(2004,), dtype=float64)\n",
            "tf.Tensor(\n",
            "[ -2.6603532  -2.6231657  -2.585975  ... -95.346925  -95.389675\n",
            " -95.432553 ], shape=(2004,), dtype=float64)\n"
          ]
        },
        {
          "data": {
            "text/plain": [
              "6"
            ]
          },
          "execution_count": 19,
          "metadata": {},
          "output_type": "execute_result"
        }
      ],
      "source": [
        "tr_ds = tf.data.Dataset.from_tensor_slices(tr)\n",
        "\n",
        "\n",
        "l = []\n",
        "for element in tr_ds:\n",
        "  print(element)\n",
        "  l.append(element)\n",
        "\n",
        "len(l)"
      ]
    },
    {
      "cell_type": "code",
      "execution_count": null,
      "metadata": {
        "colab": {
          "base_uri": "https://localhost:8080/"
        },
        "id": "mGHHqNTrhCWd",
        "outputId": "ebe6923d-82c2-4075-b53f-eb2d162205db"
      },
      "outputs": [
        {
          "data": {
            "text/plain": [
              "<tf.Tensor: shape=(42,), dtype=float64, numpy=\n",
              "array([  0.,   0.,   0.,   0.,   0.,   0.,   0.,   0.,   0.,   0.,   0.,\n",
              "         0.,   0.,   0.,   0.,   0.,   0.,   0.,   0.,   0.,   0., 100.,\n",
              "       107., 114., 121., 135., 142., 149., 156., 163., 170., 177., 184.,\n",
              "       191., 198., 205., 212., 219., 226., 233., 240., 247.])>"
            ]
          },
          "execution_count": 36,
          "metadata": {},
          "output_type": "execute_result"
        }
      ],
      "source": [
        "df_m = pd.read_csv('/content/Dt_1.txt', sep='\\s+', header=None)\n",
        "df_ph = pd.read_csv('/content/DT_2.txt', sep='\\s+', header=None)\n",
        "\n",
        "df = pd.concat([df_m, df_ph], axis=0, ignore_index=True)\n",
        "\n",
        "d_tr = df.iloc[:,1]\n",
        "\n",
        "d_tr = d_tr.astype(float)\n",
        "\n",
        "tr_t = tf.convert_to_tensor(d_tr)\n",
        "tr_t"
      ]
    },
    {
      "cell_type": "markdown",
      "metadata": {
        "id": "A9oYYtcpiWYA"
      },
      "source": [
        "# Model_1: Optuna"
      ]
    },
    {
      "cell_type": "code",
      "execution_count": null,
      "metadata": {
        "colab": {
          "base_uri": "https://localhost:8080/"
        },
        "id": "iNlsA4rYrcqk",
        "outputId": "6e4fade1-77cb-4570-b986-53ccb20ce272"
      },
      "outputs": [
        {
          "name": "stdout",
          "output_type": "stream",
          "text": [
            "Collecting optuna\n",
            "  Downloading optuna-3.6.1-py3-none-any.whl (380 kB)\n",
            "\u001b[2K     \u001b[90m━━━━━━━━━━━━━━━━━━━━━━━━━━━━━━━━━━━━━━━━\u001b[0m \u001b[32m380.1/380.1 kB\u001b[0m \u001b[31m2.9 MB/s\u001b[0m eta \u001b[36m0:00:00\u001b[0m\n",
            "\u001b[?25hCollecting alembic>=1.5.0 (from optuna)\n",
            "  Downloading alembic-1.13.1-py3-none-any.whl (233 kB)\n",
            "\u001b[2K     \u001b[90m━━━━━━━━━━━━━━━━━━━━━━━━━━━━━━━━━━━━━━━━\u001b[0m \u001b[32m233.4/233.4 kB\u001b[0m \u001b[31m15.6 MB/s\u001b[0m eta \u001b[36m0:00:00\u001b[0m\n",
            "\u001b[?25hCollecting colorlog (from optuna)\n",
            "  Downloading colorlog-6.8.2-py3-none-any.whl (11 kB)\n",
            "Requirement already satisfied: numpy in /usr/local/lib/python3.10/dist-packages (from optuna) (1.25.2)\n",
            "Requirement already satisfied: packaging>=20.0 in /usr/local/lib/python3.10/dist-packages (from optuna) (24.0)\n",
            "Requirement already satisfied: sqlalchemy>=1.3.0 in /usr/local/lib/python3.10/dist-packages (from optuna) (2.0.29)\n",
            "Requirement already satisfied: tqdm in /usr/local/lib/python3.10/dist-packages (from optuna) (4.66.2)\n",
            "Requirement already satisfied: PyYAML in /usr/local/lib/python3.10/dist-packages (from optuna) (6.0.1)\n",
            "Collecting Mako (from alembic>=1.5.0->optuna)\n",
            "  Downloading Mako-1.3.3-py3-none-any.whl (78 kB)\n",
            "\u001b[2K     \u001b[90m━━━━━━━━━━━━━━━━━━━━━━━━━━━━━━━━━━━━━━━━\u001b[0m \u001b[32m78.8/78.8 kB\u001b[0m \u001b[31m9.3 MB/s\u001b[0m eta \u001b[36m0:00:00\u001b[0m\n",
            "\u001b[?25hRequirement already satisfied: typing-extensions>=4 in /usr/local/lib/python3.10/dist-packages (from alembic>=1.5.0->optuna) (4.11.0)\n",
            "Requirement already satisfied: greenlet!=0.4.17 in /usr/local/lib/python3.10/dist-packages (from sqlalchemy>=1.3.0->optuna) (3.0.3)\n",
            "Requirement already satisfied: MarkupSafe>=0.9.2 in /usr/local/lib/python3.10/dist-packages (from Mako->alembic>=1.5.0->optuna) (2.1.5)\n",
            "Installing collected packages: Mako, colorlog, alembic, optuna\n",
            "Successfully installed Mako-1.3.3 alembic-1.13.1 colorlog-6.8.2 optuna-3.6.1\n"
          ]
        }
      ],
      "source": [
        "pip install optuna"
      ]
    },
    {
      "cell_type": "code",
      "execution_count": null,
      "metadata": {
        "id": "ckdJjf4fx-2H"
      },
      "outputs": [],
      "source": [
        "import tensorflow as tf\n",
        "import numpy as np\n",
        "import optuna\n",
        "from tensorflow.keras import layers\n",
        "from keras.models import Sequential\n",
        "from keras.layers import Dense, Dropout, Conv2D, MaxPool2D, Flatten\n",
        "from tensorflow.keras.layers import Conv2DTranspose, LeakyReLU, Reshape, BatchNormalization\n",
        "\n",
        "# Discriminator model\n",
        "d_model = Sequential()\n",
        "d_model.add(Conv2D(64, (3, 3), strides=(2, 2), padding=\"valid\"))\n",
        "d_model.add(LeakyReLU(alpha=0.2))\n",
        "d_model.add(Dropout(0.4))\n",
        "#d_model.add(BatchNormalization())\n",
        "\n",
        "d_model.add(Conv2D(32, (3, 3), strides=(2, 2), padding=\"valid\"))\n",
        "d_model.add(LeakyReLU(alpha=0.2))\n",
        "d_model.add(Dropout(0.4))\n",
        "#d_model.add(BatchNormalization())\n",
        "\n",
        "d_model.add(Flatten())\n",
        "d_model.add(Dropout(0.4))\n",
        "#d_model.add(BatchNormalization())\n",
        "\n",
        "d_model.add(Dense(1, activation='sigmoid'))\n",
        "\n",
        "\n",
        "# Create the generator\n",
        "latent_dim = 128\n",
        "g_model = Sequential()\n",
        "g_model.add(Dense(7*7*128, input_dim=128))\n",
        "g_model.add(LeakyReLU(alpha=0.2))\n",
        "g_model.add(BatchNormalization())\n",
        "\n",
        "\n",
        "\n",
        "g_model.add(Reshape((7,7,128)))\n",
        "g_model.add(Conv2DTranspose(128, kernel_size=(3,3), strides=(1,1), padding='valid'))\n",
        "g_model.add(LeakyReLU(alpha=0.2))\n",
        "g_model.add(BatchNormalization())\n",
        "\n",
        "\n",
        "g_model.add(Conv2DTranspose(128, kernel_size=(4,4), strides=(1,1), padding='valid'))\n",
        "g_model.add(LeakyReLU(alpha=0.2))\n",
        "g_model.add(BatchNormalization())\n",
        "\n",
        "\n",
        "g_model.add(Conv2DTranspose(128, kernel_size=(4,4), strides=(1,1), padding='valid'))\n",
        "g_model.add(LeakyReLU(alpha=0.2))\n",
        "g_model.add(BatchNormalization())\n",
        "\n",
        "\n",
        "g_model.add(Conv2D(1, (4,4), activation='sigmoid', padding='same'))\n"
      ]
    },
    {
      "cell_type": "code",
      "execution_count": null,
      "metadata": {
        "id": "QvfWQDog8lf5"
      },
      "outputs": [],
      "source": [
        "import tensorflow as tf\n",
        "import numpy as np\n",
        "import optuna\n",
        "from tensorflow.keras import layers\n",
        "from keras.models import Sequential\n",
        "from keras.layers import Dense, Dropout, Conv2D, MaxPool2D, Flatten\n",
        "from tensorflow.keras.layers import Conv2DTranspose, LeakyReLU, Reshape, BatchNormalization\n",
        "\n",
        "# Create the discriminator\n",
        "def objective(trial):\n",
        "  d_model = Sequential()\n",
        "  #n_layers = trial.suggest_int('n_layers', 1, 5)\n",
        "  #for i in range(n_layers):\n",
        "  d_model.add(Conv2D(filters= trial.suggest_categorical('filters', [32,64]),\n",
        "                     kernel_size= trial.suggest_categorical('kernel_size', [3,5]),\n",
        "                     strides= trial.suggest_categorical('strides', [1,2]),\n",
        "                     padding='valid', input_shape=(15,15,1)))\n",
        "  d_model.add(LeakyReLU(alpha=0.2))\n",
        "  d_model.add(Conv2D(filters= trial.suggest_categorical('filters', [32,64]),\n",
        "                     kernel_size= trial.suggest_categorical('kernel_size', [3,5]),\n",
        "                     strides= trial.suggest_categorical('strides', [1,2]),\n",
        "                     padding='valid'))\n",
        "  d_model.add(LeakyReLU(alpha=0.2))\n",
        "\n",
        "  d_model.add(Flatten())\n",
        "  d_model.add(Dense(1, activation='sigmoid'))\n",
        "\n",
        "  return d_model\n",
        "\n",
        "def objective(trial):\n",
        "  g_model = Sequential()\n",
        "  #model.add(Input(shape=(128,)))\n",
        "  g_model.add(Dense(7*7*128, input_dim=128))\n",
        "  g_model.add(LeakyReLU(alpha=0.2))\n",
        "  g_model.add(Reshape((7,7,128)))\n",
        "  g_model.add(Conv2DTranspose(filters= trial.suggest_categorical('filters', [64,128]),\n",
        "                     kernel_size= trial.suggest_categorical('kernel_size', [3,5]),\n",
        "                     strides= trial.suggest_categorical('strides', [1,2]),\n",
        "                     padding='valid'))\n",
        "  g_model.add(LeakyReLU(alpha=0.2))\n",
        "  g_model.add(Conv2DTranspose(filters= trial.suggest_categorical('filters', [64,128]),\n",
        "                     kernel_size= trial.suggest_categorical('kernel_size', [3,5]),\n",
        "                     strides= trial.suggest_categorical('strides', [1,2]),\n",
        "                     padding='valid'))\n",
        "  g_model.add(LeakyReLU(alpha=0.2))\n",
        "  g_model.add(Conv2DTranspose(filters= trial.suggest_categorical('filters', [64,128]),\n",
        "                     kernel_size= trial.suggest_categorical('kernel_size', [3,5]),\n",
        "                     strides= trial.suggest_categorical('strides', [1,2]),\n",
        "                     padding='valid'))\n",
        "  g_model.add(LeakyReLU(alpha=0.2))\n",
        "\n",
        "  g_model.add(Conv2D(1, (4,4), activation='sigmoid', padding='same'))\n",
        "\n",
        "  return g_model\n"
      ]
    },
    {
      "cell_type": "code",
      "execution_count": null,
      "metadata": {
        "colab": {
          "base_uri": "https://localhost:8080/",
          "height": 179
        },
        "id": "qvYkC3ktq7m8",
        "outputId": "d0a593a0-9b01-4eaa-c143-1d720d2b9c54"
      },
      "outputs": [
        {
          "name": "stderr",
          "output_type": "stream",
          "text": [
            "[I 2024-04-25 14:35:38,733] A new study created in memory with name: no-name-42f3b8b1-8d4d-4fec-8ac5-ab06312fd1e9\n"
          ]
        },
        {
          "ename": "NameError",
          "evalue": "name 'objective' is not defined",
          "output_type": "error",
          "traceback": [
            "\u001b[0;31m---------------------------------------------------------------------------\u001b[0m",
            "\u001b[0;31mNameError\u001b[0m                                 Traceback (most recent call last)",
            "\u001b[0;32m<ipython-input-37-e5765535ee57>\u001b[0m in \u001b[0;36m<cell line: 2>\u001b[0;34m()\u001b[0m\n\u001b[1;32m      1\u001b[0m \u001b[0mstudy\u001b[0m \u001b[0;34m=\u001b[0m \u001b[0moptuna\u001b[0m\u001b[0;34m.\u001b[0m\u001b[0mcreate_study\u001b[0m\u001b[0;34m(\u001b[0m\u001b[0mdirection\u001b[0m\u001b[0;34m=\u001b[0m\u001b[0;34m'maximize'\u001b[0m\u001b[0;34m)\u001b[0m\u001b[0;34m\u001b[0m\u001b[0;34m\u001b[0m\u001b[0m\n\u001b[0;32m----> 2\u001b[0;31m \u001b[0mstudy\u001b[0m\u001b[0;34m.\u001b[0m\u001b[0moptimize\u001b[0m\u001b[0;34m(\u001b[0m\u001b[0mobjective\u001b[0m\u001b[0;34m,\u001b[0m \u001b[0mn_trials\u001b[0m\u001b[0;34m=\u001b[0m\u001b[0;36m100\u001b[0m\u001b[0;34m)\u001b[0m\u001b[0;34m\u001b[0m\u001b[0;34m\u001b[0m\u001b[0m\n\u001b[0m",
            "\u001b[0;31mNameError\u001b[0m: name 'objective' is not defined"
          ]
        }
      ],
      "source": [
        "study = optuna.create_study(direction='maximize')\n",
        "study.optimize(objective, n_trials=100)"
      ]
    },
    {
      "cell_type": "markdown",
      "metadata": {
        "id": "oewo3krpxHDS"
      },
      "source": [
        "# Model_best"
      ]
    },
    {
      "cell_type": "code",
      "execution_count": null,
      "metadata": {
        "id": "_A9w9OcHeM_b"
      },
      "outputs": [],
      "source": [
        "from tensorflow.keras.layers import Activation\n",
        "\n",
        "def thresholded_sigmoid(x, threshold=0.5):\n",
        "    return tf.sigmoid(x - threshold)\n",
        "\n",
        "# Create a custom layer with the thresholded sigmoid activation\n",
        "class ThresholdedSigmoid(Activation):\n",
        "    def __init__(self, threshold=0.5, **kwargs):\n",
        "        super(ThresholdedSigmoid, self).__init__(lambda x: thresholded_sigmoid(x, threshold), **kwargs)\n",
        "        self.threshold = threshold"
      ]
    },
    {
      "cell_type": "code",
      "execution_count": null,
      "metadata": {
        "id": "Hv_Z3n9DxJ_J"
      },
      "outputs": [],
      "source": [
        "import tensorflow as tf\n",
        "import numpy as np\n",
        "from tensorflow.keras import layers\n",
        "from keras.models import Sequential\n",
        "from keras.layers import Dense, Dropout, Conv2D, MaxPool2D, Flatten\n",
        "from tensorflow.keras.layers import Conv2DTranspose, LeakyReLU, Reshape, BatchNormalization\n",
        "\n",
        "# Discriminator model\n",
        "d_model = Sequential()\n",
        "d_model.add(Conv2D(64, (3, 3), strides=(2, 2), padding=\"valid\", input_shape=(15,15,1)))\n",
        "d_model.add(LeakyReLU(alpha=0.2))\n",
        "d_model.add(Dropout(0.4))\n",
        "#d_model.add(BatchNormalization())\n",
        "\n",
        "d_model.add(Conv2D(32, (3, 3), strides=(2, 2), padding=\"valid\"))\n",
        "d_model.add(LeakyReLU(alpha=0.2))\n",
        "d_model.add(Dropout(0.4))\n",
        "#d_model.add(BatchNormalization())\n",
        "\n",
        "d_model.add(Flatten())\n",
        "d_model.add(Dropout(0.4))\n",
        "#d_model.add(BatchNormalization())\n",
        "\n",
        "d_model.add(Dense(1, activation='sigmoid'))\n",
        "\n",
        "\n",
        "# Create the generator\n",
        "latent_dim = 128\n",
        "g_model = Sequential()\n",
        "g_model.add(Dense(7*7*128, input_dim=128))\n",
        "g_model.add(LeakyReLU(alpha=0.2))\n",
        "g_model.add(BatchNormalization())\n",
        "\n",
        "\n",
        "\n",
        "g_model.add(Reshape((7,7,128)))\n",
        "g_model.add(Conv2DTranspose(128, kernel_size=(3,3), strides=(1,1), padding='valid'))\n",
        "g_model.add(LeakyReLU(alpha=0.2))\n",
        "g_model.add(BatchNormalization())\n",
        "\n",
        "\n",
        "g_model.add(Conv2DTranspose(128, kernel_size=(4,4), strides=(1,1), padding='valid'))\n",
        "g_model.add(LeakyReLU(alpha=0.2))\n",
        "g_model.add(BatchNormalization())\n",
        "\n",
        "\n",
        "g_model.add(Conv2DTranspose(128, kernel_size=(4,4), strides=(1,1), padding='valid'))\n",
        "g_model.add(LeakyReLU(alpha=0.2))\n",
        "g_model.add(BatchNormalization())\n",
        "\n",
        "g_model.add(Conv2D(64, kernel_size=(4,4), strides=(1,1), padding='same'))\n",
        "\n",
        "g_model.add(Conv2D(1, (4,4), activation=ThresholdedSigmoid(threshold=0.5), padding='same'))\n"
      ]
    },
    {
      "cell_type": "markdown",
      "metadata": {
        "id": "7hncXtT3aKe5"
      },
      "source": [
        "# Model Test"
      ]
    },
    {
      "cell_type": "code",
      "execution_count": null,
      "metadata": {
        "id": "HLIBwPVSaJcR"
      },
      "outputs": [],
      "source": [
        "import tensorflow as tf\n",
        "import numpy as np\n",
        "from tensorflow.keras import layers\n",
        "from keras.models import Sequential\n",
        "from keras.layers import Dense, Dropout, Conv2D, MaxPool2D, Flatten\n",
        "from tensorflow.keras.layers import Conv2DTranspose, LeakyReLU, Reshape, BatchNormalization, Activation\n",
        "\n",
        "# Discriminator model\n",
        "d_model = Sequential()\n",
        "d_model.add(Conv2D(64, (4, 4), strides=(2, 2), padding=\"valid\", input_shape=(15,15,1)))\n",
        "d_model.add(LeakyReLU(alpha=0.2))\n",
        "#d_model.add(Dropout(0.4))\n",
        "d_model.add(BatchNormalization())\n",
        "\n",
        "d_model.add(Conv2D(64, (4, 4), strides=(2, 2), padding=\"valid\"))\n",
        "d_model.add(LeakyReLU(alpha=0.2))\n",
        "#d_model.add(Dropout(0.4))\n",
        "d_model.add(BatchNormalization())\n",
        "\n",
        "\n",
        "\n",
        "d_model.add(Flatten())\n",
        "d_model.add(Dropout(0.4))\n",
        "#d_model.add(BatchNormalization())\n",
        "\n",
        "d_model.add(Dense(1, activation='sigmoid'))\n",
        "\n",
        "\n",
        "# Create the generator\n",
        "latent_dim = 128\n",
        "g_model = Sequential()\n",
        "g_model.add(Dense(7*7*128, input_dim=128))\n",
        "g_model.add(LeakyReLU(alpha=0.2))\n",
        "g_model.add(BatchNormalization())\n",
        "\n",
        "\n",
        "\n",
        "g_model.add(Reshape((7,7,128)))\n",
        "g_model.add(Conv2DTranspose(128, kernel_size=(3,3), strides=(1,1), padding='valid'))\n",
        "g_model.add(LeakyReLU(alpha=0.2))\n",
        "g_model.add(BatchNormalization())\n",
        "\n",
        "\n",
        "g_model.add(Conv2DTranspose(128, kernel_size=(4,4), strides=(1,1), padding='valid'))\n",
        "g_model.add(LeakyReLU(alpha=0.2))\n",
        "g_model.add(BatchNormalization())\n",
        "\n",
        "\n",
        "g_model.add(Conv2DTranspose(128, kernel_size=(4,4), strides=(1,1), padding='valid'))\n",
        "g_model.add(LeakyReLU(alpha=0.2))\n",
        "g_model.add(BatchNormalization())\n",
        "\n",
        "#g_model.add(Conv2D(64, kernel_size=(4,4), strides=(1,1), padding='same'))\n",
        "\n",
        "#g_model.add(Conv2D(64, kernel_size=(4,4), strides=(1,1), padding='same'))\n",
        "\n",
        "g_model.add(Conv2D(1, (4,4), activation='sigmoid', padding='same'))"
      ]
    },
    {
      "cell_type": "markdown",
      "metadata": {
        "id": "0J8I6Hl-ifvq"
      },
      "source": [
        "# Model_2: Youtube"
      ]
    },
    {
      "cell_type": "code",
      "execution_count": null,
      "metadata": {
        "id": "UN4RLhPYaOtL"
      },
      "outputs": [],
      "source": [
        "import tensorflow as tf\n",
        "import numpy as np\n",
        "from tensorflow.keras import layers\n",
        "from keras.models import Sequential\n",
        "from keras.layers import Dense, Dropout, Conv2D, MaxPool2D, Flatten, UpSampling2D\n",
        "from tensorflow.keras.layers import Conv2DTranspose, LeakyReLU, Reshape, BatchNormalization\n",
        "\n",
        "\n",
        "def Discriminator():\n",
        "  model = Sequential()\n",
        "\n",
        "  model.add(Conv2D(32, 5, input_shape=(15,15,1)))\n",
        "  model.add(LeakyReLU(alpha=0.2))\n",
        "  model.add(Dropout(0.4))\n",
        "\n",
        "  model.add(Conv2D(64, 5))\n",
        "  model.add(LeakyReLU(alpha=0.2))\n",
        "  model.add(Dropout(0.4))\n",
        "\n",
        "  #model.add(Conv2D(128, 5))\n",
        "  #model.add(LeakyReLU(alpha=0.2))\n",
        "  #model.add(Dropout(0.4))\n",
        "\n",
        "  #model.add(Conv2D(256, 5))\n",
        "  #model.add(LeakyReLU(alpha=0.2))\n",
        "  #model.add(Dropout(0.4))\n",
        "\n",
        "  model.add(Flatten())\n",
        "  model.add(Dropout(0.4))\n",
        "  model.add(Dense(1, activation='sigmoid'))\n",
        "\n",
        "  return model\n",
        "\n",
        "def Generator():\n",
        "  model = Sequential()\n",
        "\n",
        "  model.add(Dense(7*7*128, input_dim=128))\n",
        "  model.add(LeakyReLU(alpha=0.2))\n",
        "  model.add(Reshape((7,7,128)))\n",
        "\n",
        "  model.add(UpSampling2D())\n",
        "  model.add(Conv2D(128, 5, padding='valid'))\n",
        "  model.add(LeakyReLU(alpha=0.2))\n",
        "\n",
        "  model.add(UpSampling2D())\n",
        "  model.add(Conv2D(128, 4, padding='valid'))\n",
        "  model.add(LeakyReLU(alpha=0.2))\n",
        "\n",
        "  model.add(Conv2D(128, 3, padding='valid'))\n",
        "  model.add(LeakyReLU(alpha=0.2))\n",
        "\n",
        "  model.add(Conv2D(128, 4, padding='same'))\n",
        "  model.add(LeakyReLU(alpha=0.2))\n",
        "\n",
        "  model.add(Conv2D(128, 4, padding='same'))\n",
        "  model.add(LeakyReLU(alpha=0.2))\n",
        "\n",
        "\n",
        "  model.add(Conv2D(1, 4, activation='sigmoid', padding='same'))\n",
        "\n",
        "  return model"
      ]
    },
    {
      "cell_type": "markdown",
      "metadata": {
        "id": "gebmztzxiuzI"
      },
      "source": [
        "# Model_3: Paper"
      ]
    },
    {
      "cell_type": "code",
      "execution_count": null,
      "metadata": {
        "id": "2IgXWXBviq-x"
      },
      "outputs": [],
      "source": [
        "import tensorflow as tf\n",
        "import numpy as np\n",
        "from tensorflow.keras import layers\n",
        "from keras.models import Sequential\n",
        "from keras.layers import Dense, Dropout, Conv2D, MaxPool2D, Flatten\n",
        "from tensorflow.keras.layers import Conv2DTranspose, LeakyReLU, Reshape, BatchNormalization\n",
        "\n",
        "\n",
        "# Discriminator model\n",
        "\n",
        "d_model = Sequential()\n",
        "d_model.add(Conv2D(64, kernel_size= (3,3), strides=(1,1), padding='valid', input_shape=(15,15,1)))\n",
        "d_model.add(LeakyReLU(alpha=0.2))\n",
        "d_model.add(BatchNormalization())\n",
        "\n",
        "d_model.add(Conv2D(128, kernel_size=(3,3), strides=(1,1), padding='valid'))\n",
        "d_model.add(LeakyReLU(alpha=0.2))\n",
        "d_model.add(BatchNormalization())\n",
        "\n",
        "d_model.add(Conv2D(256, kernel_size=(3,3), strides=(1,1), padding='valid'))\n",
        "d_model.add(LeakyReLU(alpha=0.2))\n",
        "d_model.add(BatchNormalization())\n",
        "\n",
        "d_model.add(Conv2D(512, kernel_size=(3,3), strides=(1,1), padding='valid'))\n",
        "d_model.add(LeakyReLU(alpha=0.2))\n",
        "d_model.add(BatchNormalization())\n",
        "\n",
        "d_model.add(Flatten())\n",
        "d_model.add(Dense(1, activation='sigmoid'))\n",
        "\n",
        "\n",
        "# Generator model\n",
        "\n",
        "g_model = Sequential()\n",
        "\n",
        "g_model.add(Dense(7*7*128, input_dim=128))\n",
        "g_model.add(LeakyReLU(alpha=0.2))\n",
        "g_model.add(BatchNormalization())\n",
        "\n",
        "g_model.add(Reshape((7,7,128)))\n",
        "g_model.add(Conv2DTranspose(256, kernel_size=(3,3), strides=(1,1), padding='valid'))\n",
        "g_model.add(LeakyReLU(alpha=0.2))\n",
        "g_model.add(BatchNormalization())\n",
        "\n",
        "g_model.add(Conv2DTranspose(128, kernel_size=(4,4), strides=(1,1), padding='valid'))\n",
        "g_model.add(LeakyReLU(alpha=0.2))\n",
        "g_model.add(BatchNormalization())\n",
        "\n",
        "g_model.add(Conv2DTranspose(64, kernel_size=(4,4), strides=(1,1), padding='valid'))\n",
        "g_model.add(LeakyReLU(alpha=0.2))\n",
        "g_model.add(BatchNormalization())\n",
        "\n",
        "g_model.add(Conv2D(1, (4,4), activation='sigmoid', padding='same'))\n"
      ]
    },
    {
      "cell_type": "markdown",
      "metadata": {
        "id": "tYhcnnzCi4RV"
      },
      "source": [
        "# Process"
      ]
    },
    {
      "cell_type": "code",
      "execution_count": null,
      "metadata": {
        "colab": {
          "base_uri": "https://localhost:8080/",
          "height": 397
        },
        "id": "dOjR_SOFtp6h",
        "outputId": "f32aa262-0366-4c0b-a305-8c84382c2c6d"
      },
      "outputs": [
        {
          "name": "stdout",
          "output_type": "stream",
          "text": [
            "tf.Tensor(\n",
            "[[  0.   0.   0.   0.   0.   0.   0.   0.   0.   0.   0.   0.   0.   0.\n",
            "    0.   0.   0.   0.   0.   0.   0. 100. 107. 114. 121. 135. 142. 149.\n",
            "  156. 163. 170. 177. 184. 191. 198. 205. 212. 219. 226. 233. 240. 247.]], shape=(1, 42), dtype=float32)\n"
          ]
        },
        {
          "ename": "ValueError",
          "evalue": "Input 0 of layer \"sequential_1\" is incompatible with the layer: expected shape=(None, 128), found shape=(1, 170)",
          "output_type": "error",
          "traceback": [
            "\u001b[0;31m---------------------------------------------------------------------------\u001b[0m",
            "\u001b[0;31mValueError\u001b[0m                                Traceback (most recent call last)",
            "\u001b[0;32m<ipython-input-45-38d8ad6a1d84>\u001b[0m in \u001b[0;36m<cell line: 10>\u001b[0;34m()\u001b[0m\n\u001b[1;32m      8\u001b[0m \u001b[0minput\u001b[0m \u001b[0;34m=\u001b[0m \u001b[0mtf\u001b[0m\u001b[0;34m.\u001b[0m\u001b[0mconcat\u001b[0m\u001b[0;34m(\u001b[0m\u001b[0;34m[\u001b[0m\u001b[0mtr_t\u001b[0m\u001b[0;34m,\u001b[0m \u001b[0mrandom_latent_vectors\u001b[0m\u001b[0;34m]\u001b[0m\u001b[0;34m,\u001b[0m \u001b[0maxis\u001b[0m\u001b[0;34m=\u001b[0m\u001b[0;36m1\u001b[0m\u001b[0;34m)\u001b[0m\u001b[0;34m\u001b[0m\u001b[0;34m\u001b[0m\u001b[0m\n\u001b[1;32m      9\u001b[0m \u001b[0minput\u001b[0m\u001b[0;34m\u001b[0m\u001b[0;34m\u001b[0m\u001b[0m\n\u001b[0;32m---> 10\u001b[0;31m \u001b[0mgenerated_samples\u001b[0m \u001b[0;34m=\u001b[0m \u001b[0mg_model\u001b[0m\u001b[0;34m(\u001b[0m\u001b[0minput\u001b[0m\u001b[0;34m)\u001b[0m\u001b[0;34m\u001b[0m\u001b[0;34m\u001b[0m\u001b[0m\n\u001b[0m",
            "\u001b[0;32m/usr/local/lib/python3.10/dist-packages/keras/src/utils/traceback_utils.py\u001b[0m in \u001b[0;36merror_handler\u001b[0;34m(*args, **kwargs)\u001b[0m\n\u001b[1;32m     68\u001b[0m             \u001b[0;31m# To get the full stack trace, call:\u001b[0m\u001b[0;34m\u001b[0m\u001b[0;34m\u001b[0m\u001b[0m\n\u001b[1;32m     69\u001b[0m             \u001b[0;31m# `tf.debugging.disable_traceback_filtering()`\u001b[0m\u001b[0;34m\u001b[0m\u001b[0;34m\u001b[0m\u001b[0m\n\u001b[0;32m---> 70\u001b[0;31m             \u001b[0;32mraise\u001b[0m \u001b[0me\u001b[0m\u001b[0;34m.\u001b[0m\u001b[0mwith_traceback\u001b[0m\u001b[0;34m(\u001b[0m\u001b[0mfiltered_tb\u001b[0m\u001b[0;34m)\u001b[0m \u001b[0;32mfrom\u001b[0m \u001b[0;32mNone\u001b[0m\u001b[0;34m\u001b[0m\u001b[0;34m\u001b[0m\u001b[0m\n\u001b[0m\u001b[1;32m     71\u001b[0m         \u001b[0;32mfinally\u001b[0m\u001b[0;34m:\u001b[0m\u001b[0;34m\u001b[0m\u001b[0;34m\u001b[0m\u001b[0m\n\u001b[1;32m     72\u001b[0m             \u001b[0;32mdel\u001b[0m \u001b[0mfiltered_tb\u001b[0m\u001b[0;34m\u001b[0m\u001b[0;34m\u001b[0m\u001b[0m\n",
            "\u001b[0;32m/usr/local/lib/python3.10/dist-packages/keras/src/engine/input_spec.py\u001b[0m in \u001b[0;36massert_input_compatibility\u001b[0;34m(input_spec, inputs, layer_name)\u001b[0m\n\u001b[1;32m    296\u001b[0m                 \u001b[0;32mif\u001b[0m \u001b[0mspec_dim\u001b[0m \u001b[0;32mis\u001b[0m \u001b[0;32mnot\u001b[0m \u001b[0;32mNone\u001b[0m \u001b[0;32mand\u001b[0m \u001b[0mdim\u001b[0m \u001b[0;32mis\u001b[0m \u001b[0;32mnot\u001b[0m \u001b[0;32mNone\u001b[0m\u001b[0;34m:\u001b[0m\u001b[0;34m\u001b[0m\u001b[0;34m\u001b[0m\u001b[0m\n\u001b[1;32m    297\u001b[0m                     \u001b[0;32mif\u001b[0m \u001b[0mspec_dim\u001b[0m \u001b[0;34m!=\u001b[0m \u001b[0mdim\u001b[0m\u001b[0;34m:\u001b[0m\u001b[0;34m\u001b[0m\u001b[0;34m\u001b[0m\u001b[0m\n\u001b[0;32m--> 298\u001b[0;31m                         raise ValueError(\n\u001b[0m\u001b[1;32m    299\u001b[0m                             \u001b[0;34mf'Input {input_index} of layer \"{layer_name}\" is '\u001b[0m\u001b[0;34m\u001b[0m\u001b[0;34m\u001b[0m\u001b[0m\n\u001b[1;32m    300\u001b[0m                             \u001b[0;34m\"incompatible with the layer: \"\u001b[0m\u001b[0;34m\u001b[0m\u001b[0;34m\u001b[0m\u001b[0m\n",
            "\u001b[0;31mValueError\u001b[0m: Input 0 of layer \"sequential_1\" is incompatible with the layer: expected shape=(None, 128), found shape=(1, 170)"
          ]
        }
      ],
      "source": [
        "random_latent_vectors = tf.random.normal(shape=(1, 128))\n",
        "\n",
        "tr_t = tf.expand_dims(d_tr, axis=-1)\n",
        "tr_t = tf.reshape(tr_t, (1,tr_t.shape[0]))\n",
        "tr_t = tf.cast(tr_t, tf.float32)\n",
        "\n",
        "print(tr_t)\n",
        "input = tf.concat([tr_t, random_latent_vectors], axis=1)\n",
        "input\n",
        "generated_samples = g_model(input)"
      ]
    },
    {
      "cell_type": "code",
      "execution_count": null,
      "metadata": {
        "colab": {
          "base_uri": "https://localhost:8080/"
        },
        "collapsed": true,
        "id": "G6VweoYhiRTx",
        "outputId": "5621fb3e-010a-4b26-fe3d-1ffb5e22c8a3"
      },
      "outputs": [
        {
          "name": "stdout",
          "output_type": "stream",
          "text": [
            "Model: \"sequential_44\"\n",
            "_________________________________________________________________\n",
            " Layer (type)                Output Shape              Param #   \n",
            "=================================================================\n",
            " conv2d_69 (Conv2D)          (None, 8, 8, 32)          320       \n",
            "                                                                 \n",
            " leaky_re_lu_131 (LeakyReLU  (None, 8, 8, 32)          0         \n",
            " )                                                               \n",
            "                                                                 \n",
            " conv2d_70 (Conv2D)          (None, 4, 4, 64)          18496     \n",
            "                                                                 \n",
            " batch_normalization_116 (B  (None, 4, 4, 64)          256       \n",
            " atchNormalization)                                              \n",
            "                                                                 \n",
            " leaky_re_lu_132 (LeakyReLU  (None, 4, 4, 64)          0         \n",
            " )                                                               \n",
            "                                                                 \n",
            " conv2d_71 (Conv2D)          (None, 2, 2, 128)         73856     \n",
            "                                                                 \n",
            " batch_normalization_117 (B  (None, 2, 2, 128)         512       \n",
            " atchNormalization)                                              \n",
            "                                                                 \n",
            " leaky_re_lu_133 (LeakyReLU  (None, 2, 2, 128)         0         \n",
            " )                                                               \n",
            "                                                                 \n",
            " flatten_21 (Flatten)        (None, 512)               0         \n",
            "                                                                 \n",
            " dense_42 (Dense)            (None, 1)                 513       \n",
            "                                                                 \n",
            "=================================================================\n",
            "Total params: 93953 (367.00 KB)\n",
            "Trainable params: 93569 (365.50 KB)\n",
            "Non-trainable params: 384 (1.50 KB)\n",
            "_________________________________________________________________\n"
          ]
        }
      ],
      "source": [
        "d_model.summary()"
      ]
    },
    {
      "cell_type": "code",
      "execution_count": null,
      "metadata": {
        "colab": {
          "base_uri": "https://localhost:8080/"
        },
        "collapsed": true,
        "id": "Ztnk3xumTwh2",
        "outputId": "395ec1ce-300b-45c6-978e-ad8f5f1685a0"
      },
      "outputs": [
        {
          "name": "stdout",
          "output_type": "stream",
          "text": [
            "Model: \"sequential_47\"\n",
            "_________________________________________________________________\n",
            " Layer (type)                Output Shape              Param #   \n",
            "=================================================================\n",
            " dense_45 (Dense)            (None, 12544)             1266944   \n",
            "                                                                 \n",
            " reshape_22 (Reshape)        (None, 7, 7, 256)         0         \n",
            "                                                                 \n",
            " conv2d_transpose_69 (Conv2  (None, 15, 15, 128)       295040    \n",
            " DTranspose)                                                     \n",
            "                                                                 \n",
            " batch_normalization_122 (B  (None, 15, 15, 128)       512       \n",
            " atchNormalization)                                              \n",
            "                                                                 \n",
            " leaky_re_lu_139 (LeakyReLU  (None, 15, 15, 128)       0         \n",
            " )                                                               \n",
            "                                                                 \n",
            " conv2d_transpose_70 (Conv2  (None, 15, 15, 64)        73792     \n",
            " DTranspose)                                                     \n",
            "                                                                 \n",
            " batch_normalization_123 (B  (None, 15, 15, 64)        256       \n",
            " atchNormalization)                                              \n",
            "                                                                 \n",
            " leaky_re_lu_140 (LeakyReLU  (None, 15, 15, 64)        0         \n",
            " )                                                               \n",
            "                                                                 \n",
            " conv2d_transpose_71 (Conv2  (None, 15, 15, 1)         577       \n",
            " DTranspose)                                                     \n",
            "                                                                 \n",
            " activation_3 (Activation)   (None, 15, 15, 1)         0         \n",
            "                                                                 \n",
            "=================================================================\n",
            "Total params: 1637121 (6.25 MB)\n",
            "Trainable params: 1636737 (6.24 MB)\n",
            "Non-trainable params: 384 (1.50 KB)\n",
            "_________________________________________________________________\n"
          ]
        }
      ],
      "source": [
        "g_model.summary()"
      ]
    },
    {
      "cell_type": "code",
      "execution_count": null,
      "metadata": {
        "colab": {
          "base_uri": "https://localhost:8080/"
        },
        "id": "-0yUp_2TsNXF",
        "outputId": "fc27397a-6855-4f91-d895-67b1963c2b0f"
      },
      "outputs": [
        {
          "data": {
            "text/plain": [
              "<tf.Tensor: shape=(15, 15, 1), dtype=float32, numpy=\n",
              "array([[[1.],\n",
              "        [1.],\n",
              "        [0.],\n",
              "        [0.],\n",
              "        [0.],\n",
              "        [0.],\n",
              "        [0.],\n",
              "        [0.],\n",
              "        [0.],\n",
              "        [0.],\n",
              "        [1.],\n",
              "        [0.],\n",
              "        [0.],\n",
              "        [1.],\n",
              "        [0.]],\n",
              "\n",
              "       [[1.],\n",
              "        [0.],\n",
              "        [0.],\n",
              "        [0.],\n",
              "        [0.],\n",
              "        [1.],\n",
              "        [1.],\n",
              "        [0.],\n",
              "        [0.],\n",
              "        [0.],\n",
              "        [0.],\n",
              "        [0.],\n",
              "        [0.],\n",
              "        [1.],\n",
              "        [0.]],\n",
              "\n",
              "       [[0.],\n",
              "        [1.],\n",
              "        [1.],\n",
              "        [0.],\n",
              "        [1.],\n",
              "        [0.],\n",
              "        [0.],\n",
              "        [0.],\n",
              "        [0.],\n",
              "        [0.],\n",
              "        [0.],\n",
              "        [0.],\n",
              "        [0.],\n",
              "        [0.],\n",
              "        [0.]],\n",
              "\n",
              "       [[0.],\n",
              "        [1.],\n",
              "        [1.],\n",
              "        [1.],\n",
              "        [1.],\n",
              "        [0.],\n",
              "        [0.],\n",
              "        [0.],\n",
              "        [0.],\n",
              "        [0.],\n",
              "        [0.],\n",
              "        [0.],\n",
              "        [0.],\n",
              "        [0.],\n",
              "        [1.]],\n",
              "\n",
              "       [[0.],\n",
              "        [0.],\n",
              "        [0.],\n",
              "        [0.],\n",
              "        [0.],\n",
              "        [1.],\n",
              "        [0.],\n",
              "        [1.],\n",
              "        [0.],\n",
              "        [0.],\n",
              "        [0.],\n",
              "        [0.],\n",
              "        [1.],\n",
              "        [1.],\n",
              "        [0.]],\n",
              "\n",
              "       [[1.],\n",
              "        [1.],\n",
              "        [0.],\n",
              "        [1.],\n",
              "        [1.],\n",
              "        [0.],\n",
              "        [0.],\n",
              "        [0.],\n",
              "        [1.],\n",
              "        [0.],\n",
              "        [0.],\n",
              "        [1.],\n",
              "        [1.],\n",
              "        [0.],\n",
              "        [0.]],\n",
              "\n",
              "       [[1.],\n",
              "        [0.],\n",
              "        [1.],\n",
              "        [0.],\n",
              "        [1.],\n",
              "        [0.],\n",
              "        [0.],\n",
              "        [1.],\n",
              "        [1.],\n",
              "        [0.],\n",
              "        [0.],\n",
              "        [1.],\n",
              "        [0.],\n",
              "        [0.],\n",
              "        [0.]],\n",
              "\n",
              "       [[1.],\n",
              "        [1.],\n",
              "        [1.],\n",
              "        [1.],\n",
              "        [1.],\n",
              "        [1.],\n",
              "        [0.],\n",
              "        [0.],\n",
              "        [1.],\n",
              "        [0.],\n",
              "        [0.],\n",
              "        [1.],\n",
              "        [1.],\n",
              "        [0.],\n",
              "        [0.]],\n",
              "\n",
              "       [[0.],\n",
              "        [0.],\n",
              "        [1.],\n",
              "        [1.],\n",
              "        [0.],\n",
              "        [1.],\n",
              "        [1.],\n",
              "        [0.],\n",
              "        [0.],\n",
              "        [0.],\n",
              "        [1.],\n",
              "        [0.],\n",
              "        [1.],\n",
              "        [1.],\n",
              "        [0.]],\n",
              "\n",
              "       [[1.],\n",
              "        [1.],\n",
              "        [1.],\n",
              "        [1.],\n",
              "        [1.],\n",
              "        [0.],\n",
              "        [1.],\n",
              "        [1.],\n",
              "        [1.],\n",
              "        [0.],\n",
              "        [0.],\n",
              "        [0.],\n",
              "        [0.],\n",
              "        [0.],\n",
              "        [1.]],\n",
              "\n",
              "       [[0.],\n",
              "        [1.],\n",
              "        [1.],\n",
              "        [1.],\n",
              "        [0.],\n",
              "        [0.],\n",
              "        [0.],\n",
              "        [0.],\n",
              "        [0.],\n",
              "        [0.],\n",
              "        [1.],\n",
              "        [1.],\n",
              "        [1.],\n",
              "        [1.],\n",
              "        [0.]],\n",
              "\n",
              "       [[1.],\n",
              "        [0.],\n",
              "        [1.],\n",
              "        [0.],\n",
              "        [1.],\n",
              "        [1.],\n",
              "        [1.],\n",
              "        [1.],\n",
              "        [1.],\n",
              "        [0.],\n",
              "        [0.],\n",
              "        [0.],\n",
              "        [0.],\n",
              "        [0.],\n",
              "        [0.]],\n",
              "\n",
              "       [[0.],\n",
              "        [1.],\n",
              "        [0.],\n",
              "        [0.],\n",
              "        [1.],\n",
              "        [0.],\n",
              "        [1.],\n",
              "        [1.],\n",
              "        [0.],\n",
              "        [0.],\n",
              "        [0.],\n",
              "        [0.],\n",
              "        [1.],\n",
              "        [1.],\n",
              "        [1.]],\n",
              "\n",
              "       [[0.],\n",
              "        [0.],\n",
              "        [1.],\n",
              "        [0.],\n",
              "        [0.],\n",
              "        [0.],\n",
              "        [0.],\n",
              "        [0.],\n",
              "        [1.],\n",
              "        [0.],\n",
              "        [0.],\n",
              "        [0.],\n",
              "        [0.],\n",
              "        [1.],\n",
              "        [0.]],\n",
              "\n",
              "       [[1.],\n",
              "        [0.],\n",
              "        [0.],\n",
              "        [0.],\n",
              "        [0.],\n",
              "        [1.],\n",
              "        [1.],\n",
              "        [0.],\n",
              "        [0.],\n",
              "        [0.],\n",
              "        [1.],\n",
              "        [0.],\n",
              "        [0.],\n",
              "        [0.],\n",
              "        [1.]]], dtype=float32)>"
            ]
          },
          "execution_count": 20,
          "metadata": {},
          "output_type": "execute_result"
        }
      ],
      "source": [
        "random_latent_vectors = tf.random.normal((16, 128,1))\n",
        "generated_samples = g_model(random_latent_vectors, training=False)\n",
        "generated_samples = generated_samples.numpy()\n",
        "\n",
        "for z in range(generated_samples.shape[0]):\n",
        "  for i in range(generated_samples.shape[1]):\n",
        "    for j in range(generated_samples.shape[2]):\n",
        "      if generated_samples[z,i,j] >= 0.5:\n",
        "        generated_samples[z,i,j] = 1\n",
        "      else:\n",
        "        generated_samples[z,i,j] = 0\n",
        "\n",
        "generated_samples = tf.convert_to_tensor(generated_samples)\n",
        "generated_samples[0]"
      ]
    },
    {
      "cell_type": "code",
      "execution_count": null,
      "metadata": {
        "colab": {
          "base_uri": "https://localhost:8080/"
        },
        "id": "tn4rvXlQY80z",
        "outputId": "13c7f1c6-2e40-4ac1-c460-59405e861f9c"
      },
      "outputs": [
        {
          "data": {
            "text/plain": [
              "<tf.Tensor: shape=(15, 15, 1), dtype=float32, numpy=\n",
              "array([[[0.7310586],\n",
              "        [0.5      ],\n",
              "        [0.5      ],\n",
              "        [0.5      ],\n",
              "        [0.5      ],\n",
              "        [0.5      ],\n",
              "        [0.7310586],\n",
              "        [0.7310586],\n",
              "        [0.5      ],\n",
              "        [0.5      ],\n",
              "        [0.7310586],\n",
              "        [0.5      ],\n",
              "        [0.7310586],\n",
              "        [0.7310586],\n",
              "        [0.7310586]],\n",
              "\n",
              "       [[0.5      ],\n",
              "        [0.5      ],\n",
              "        [0.5      ],\n",
              "        [0.7310586],\n",
              "        [0.5      ],\n",
              "        [0.5      ],\n",
              "        [0.7310586],\n",
              "        [0.7310586],\n",
              "        [0.5      ],\n",
              "        [0.5      ],\n",
              "        [0.5      ],\n",
              "        [0.5      ],\n",
              "        [0.7310586],\n",
              "        [0.7310586],\n",
              "        [0.7310586]],\n",
              "\n",
              "       [[0.5      ],\n",
              "        [0.5      ],\n",
              "        [0.5      ],\n",
              "        [0.7310586],\n",
              "        [0.7310586],\n",
              "        [0.7310586],\n",
              "        [0.7310586],\n",
              "        [0.5      ],\n",
              "        [0.7310586],\n",
              "        [0.5      ],\n",
              "        [0.5      ],\n",
              "        [0.5      ],\n",
              "        [0.5      ],\n",
              "        [0.7310586],\n",
              "        [0.7310586]],\n",
              "\n",
              "       [[0.5      ],\n",
              "        [0.5      ],\n",
              "        [0.5      ],\n",
              "        [0.5      ],\n",
              "        [0.7310586],\n",
              "        [0.5      ],\n",
              "        [0.5      ],\n",
              "        [0.7310586],\n",
              "        [0.5      ],\n",
              "        [0.7310586],\n",
              "        [0.5      ],\n",
              "        [0.5      ],\n",
              "        [0.5      ],\n",
              "        [0.7310586],\n",
              "        [0.7310586]],\n",
              "\n",
              "       [[0.5      ],\n",
              "        [0.5      ],\n",
              "        [0.7310586],\n",
              "        [0.5      ],\n",
              "        [0.5      ],\n",
              "        [0.5      ],\n",
              "        [0.7310586],\n",
              "        [0.7310586],\n",
              "        [0.7310586],\n",
              "        [0.5      ],\n",
              "        [0.5      ],\n",
              "        [0.5      ],\n",
              "        [0.5      ],\n",
              "        [0.7310586],\n",
              "        [0.7310586]],\n",
              "\n",
              "       [[0.5      ],\n",
              "        [0.5      ],\n",
              "        [0.7310586],\n",
              "        [0.5      ],\n",
              "        [0.7310586],\n",
              "        [0.7310586],\n",
              "        [0.7310586],\n",
              "        [0.7310586],\n",
              "        [0.7310586],\n",
              "        [0.7310586],\n",
              "        [0.7310586],\n",
              "        [0.5      ],\n",
              "        [0.5      ],\n",
              "        [0.5      ],\n",
              "        [0.7310586]],\n",
              "\n",
              "       [[0.5      ],\n",
              "        [0.5      ],\n",
              "        [0.7310586],\n",
              "        [0.7310586],\n",
              "        [0.7310586],\n",
              "        [0.5      ],\n",
              "        [0.5      ],\n",
              "        [0.5      ],\n",
              "        [0.7310586],\n",
              "        [0.7310586],\n",
              "        [0.7310586],\n",
              "        [0.5      ],\n",
              "        [0.5      ],\n",
              "        [0.5      ],\n",
              "        [0.7310586]],\n",
              "\n",
              "       [[0.5      ],\n",
              "        [0.7310586],\n",
              "        [0.7310586],\n",
              "        [0.7310586],\n",
              "        [0.7310586],\n",
              "        [0.7310586],\n",
              "        [0.5      ],\n",
              "        [0.5      ],\n",
              "        [0.7310586],\n",
              "        [0.5      ],\n",
              "        [0.5      ],\n",
              "        [0.7310586],\n",
              "        [0.7310586],\n",
              "        [0.7310586],\n",
              "        [0.7310586]],\n",
              "\n",
              "       [[0.5      ],\n",
              "        [0.5      ],\n",
              "        [0.7310586],\n",
              "        [0.5      ],\n",
              "        [0.5      ],\n",
              "        [0.7310586],\n",
              "        [0.7310586],\n",
              "        [0.7310586],\n",
              "        [0.7310586],\n",
              "        [0.7310586],\n",
              "        [0.7310586],\n",
              "        [0.5      ],\n",
              "        [0.5      ],\n",
              "        [0.7310586],\n",
              "        [0.7310586]],\n",
              "\n",
              "       [[0.5      ],\n",
              "        [0.5      ],\n",
              "        [0.7310586],\n",
              "        [0.5      ],\n",
              "        [0.7310586],\n",
              "        [0.5      ],\n",
              "        [0.7310586],\n",
              "        [0.5      ],\n",
              "        [0.5      ],\n",
              "        [0.7310586],\n",
              "        [0.7310586],\n",
              "        [0.5      ],\n",
              "        [0.5      ],\n",
              "        [0.7310586],\n",
              "        [0.7310586]],\n",
              "\n",
              "       [[0.5      ],\n",
              "        [0.5      ],\n",
              "        [0.7310586],\n",
              "        [0.5      ],\n",
              "        [0.5      ],\n",
              "        [0.5      ],\n",
              "        [0.7310586],\n",
              "        [0.7310586],\n",
              "        [0.5      ],\n",
              "        [0.5      ],\n",
              "        [0.5      ],\n",
              "        [0.5      ],\n",
              "        [0.5      ],\n",
              "        [0.7310586],\n",
              "        [0.7310586]],\n",
              "\n",
              "       [[0.5      ],\n",
              "        [0.7310586],\n",
              "        [0.5      ],\n",
              "        [0.7310586],\n",
              "        [0.5      ],\n",
              "        [0.7310586],\n",
              "        [0.7310586],\n",
              "        [0.5      ],\n",
              "        [0.7310586],\n",
              "        [0.7310586],\n",
              "        [0.5      ],\n",
              "        [0.5      ],\n",
              "        [0.5      ],\n",
              "        [0.7310586],\n",
              "        [0.7310586]],\n",
              "\n",
              "       [[0.5      ],\n",
              "        [0.7310586],\n",
              "        [0.7310586],\n",
              "        [0.7310586],\n",
              "        [0.5      ],\n",
              "        [0.5      ],\n",
              "        [0.7310586],\n",
              "        [0.7310586],\n",
              "        [0.5      ],\n",
              "        [0.7310586],\n",
              "        [0.5      ],\n",
              "        [0.7310586],\n",
              "        [0.5      ],\n",
              "        [0.7310586],\n",
              "        [0.7310586]],\n",
              "\n",
              "       [[0.5      ],\n",
              "        [0.7310586],\n",
              "        [0.7310586],\n",
              "        [0.7310586],\n",
              "        [0.7310586],\n",
              "        [0.5      ],\n",
              "        [0.5      ],\n",
              "        [0.5      ],\n",
              "        [0.7310586],\n",
              "        [0.7310586],\n",
              "        [0.5      ],\n",
              "        [0.5      ],\n",
              "        [0.5      ],\n",
              "        [0.5      ],\n",
              "        [0.7310586]],\n",
              "\n",
              "       [[0.7310586],\n",
              "        [0.7310586],\n",
              "        [0.7310586],\n",
              "        [0.7310586],\n",
              "        [0.7310586],\n",
              "        [0.7310586],\n",
              "        [0.7310586],\n",
              "        [0.5      ],\n",
              "        [0.5      ],\n",
              "        [0.7310586],\n",
              "        [0.7310586],\n",
              "        [0.7310586],\n",
              "        [0.5      ],\n",
              "        [0.7310586],\n",
              "        [0.7310586]]], dtype=float32)>"
            ]
          },
          "execution_count": 70,
          "metadata": {},
          "output_type": "execute_result"
        }
      ],
      "source": [
        "random_latent_vectors = tf.random.normal((16, 128,1))\n",
        "generated_samples = g_model(random_latent_vectors, training=False)\n",
        "\n",
        "threshold = 0.5\n",
        "generated_samples = tf.where(generated_samples >= threshold, tf.ones_like(generated_samples), tf.zeros_like(generated_samples))\n",
        "generated_samples = tf.sigmoid(generated_samples, threshold)\n",
        "generated_samples[0]\n"
      ]
    },
    {
      "cell_type": "code",
      "execution_count": null,
      "metadata": {
        "colab": {
          "base_uri": "https://localhost:8080/",
          "height": 448
        },
        "id": "zXVc8WxR-YBw",
        "outputId": "fc27db0e-2d17-469f-cb43-80338e39d495"
      },
      "outputs": [
        {
          "data": {
            "text/plain": [
              "<matplotlib.image.AxesImage at 0x7bb27b3ed600>"
            ]
          },
          "execution_count": 71,
          "metadata": {},
          "output_type": "execute_result"
        },
        {
          "data": {
            "image/png": "[encoded data removed]",
            "text/plain": [
              "<Figure size 640x480 with 1 Axes>"
            ]
          },
          "metadata": {},
          "output_type": "display_data"
        }
      ],
      "source": [
        "#random_latent_vectors = tf.random.normal((16, 128,1))\n",
        "#generated_samples = g_model(random_latent_vectors, training=False)\n",
        "plt.imshow(generated_samples[0], cmap=\"gray\")\n"
      ]
    },
    {
      "cell_type": "markdown",
      "metadata": {
        "id": "Cc4y7URUeh7J"
      },
      "source": [
        "# GAN"
      ]
    },
    {
      "cell_type": "code",
      "execution_count": null,
      "metadata": {
        "id": "_XBB9DH1en_w"
      },
      "outputs": [],
      "source": [
        "from tensorflow.keras.optimizers import Adam\n",
        "from tensorflow.keras.losses import BinaryCrossentropy\n",
        "from tensorflow.keras.models import Model\n",
        "\n",
        "\n",
        "g_opt = Adam(learning_rate=0.0003)\n",
        "d_opt = Adam(learning_rate=0.00003)\n",
        "\n",
        "loss_function = BinaryCrossentropy()"
      ]
    },
    {
      "cell_type": "code",
      "execution_count": null,
      "metadata": {
        "colab": {
          "base_uri": "https://localhost:8080/"
        },
        "id": "7IPs5ZUeaPmm",
        "outputId": "ee7e00af-8dc2-4208-df8b-4ec1102fe3b8"
      },
      "outputs": [
        {
          "data": {
            "text/plain": [
              "<keras.src.metrics.accuracy_metrics.BinaryAccuracy at 0x7b15b66cd960>"
            ]
          },
          "execution_count": 20,
          "metadata": {},
          "output_type": "execute_result"
        }
      ],
      "source": [
        "tf.keras.metrics.BinaryAccuracy(name=\"binary_accuracy\", dtype=None, threshold=0.5)"
      ]
    },
    {
      "cell_type": "code",
      "execution_count": null,
      "metadata": {
        "colab": {
          "base_uri": "https://localhost:8080/",
          "height": 73
        },
        "id": "et1PbllQ8tZh",
        "outputId": "ad071d89-edc4-4867-ab0b-c738418be5e0"
      },
      "outputs": [
        {
          "data": {
            "application/vnd.google.colaboratory.intrinsic+json": {
              "type": "string"
            },
            "text/plain": [
              "'\\n        # Update metrics and return their value.\\n      self.d_loss_tracker.update_state(d_loss)\\n      self.g_loss_tracker.update_state(g_loss)\\n      return {\\n            \"d_loss\": self.d_loss_tracker.result(),\\n            \"g_loss\": self.g_loss_tracker.result(),\\n        }\\n'"
            ]
          },
          "execution_count": 27,
          "metadata": {},
          "output_type": "execute_result"
        }
      ],
      "source": [
        "class GAN(Model):\n",
        "    def __init__(self, discriminator, generator, latent_dim):\n",
        "        super().__init__()\n",
        "        self.discriminator = discriminator\n",
        "        self.generator = generator\n",
        "        self.latent_dim = latent_dim\n",
        "        self.d_loss_tracker = tf.keras.metrics.Mean(name=\"d_loss\")\n",
        "        self.g_loss_tracker = tf.keras.metrics.Mean(name=\"g_loss\")\n",
        "\n",
        "    def compile(self, d_optimizer, g_optimizer, loss_fn):\n",
        "        super().compile()\n",
        "        self.d_optimizer = d_optimizer\n",
        "        self.g_optimizer = g_optimizer\n",
        "        self.loss_fn = loss_fn\n",
        "\n",
        "    def train_step(self, real_images):\n",
        "\n",
        "        # Sample random points in the latent space\n",
        "      threshold = 0.5\n",
        "      batch_size = tf.shape(real_images)[0]\n",
        "      random_latent_vectors = tf.random.normal((batch_size, self.latent_dim,1))\n",
        "\n",
        "        # Decode them to fake images\n",
        "      generated_samples = self.generator(random_latent_vectors, training=False)\n",
        "\n",
        "\n",
        "      with tf.GradientTape() as d_tape:\n",
        "\n",
        "        # Combine them with real images\n",
        "        combined_images = tf.concat([generated_samples, real_images], axis=0)\n",
        "\n",
        "        # Assemble labels discriminating real from fake images\n",
        "        labels = tf.concat([tf.ones((batch_size, 1)), tf.zeros((batch_size, 1))], axis=0)\n",
        "\n",
        "        # Add random noise to the labels - important trick!\n",
        "        #labels += 0.05 * tf.random.uniform(tf.shape(labels))\n",
        "        noise_real = -0.15*tf.random.uniform((batch_size,1))\n",
        "        noise_fake = 0.15*tf.random.uniform((batch_size,1))\n",
        "\n",
        "        labels += tf.concat([noise_fake, noise_real], axis=0)\n",
        "\n",
        "        # Train the discriminator\n",
        "        #with tf.GradientTape() as tape:\n",
        "        predictions = self.discriminator(combined_images, training=True)\n",
        "        d_loss = self.loss_fn(labels, predictions)\n",
        "      grads = d_tape.gradient(d_loss, self.discriminator.trainable_variables)\n",
        "      self.d_optimizer.apply_gradients(zip(grads, self.discriminator.trainable_variables))\n",
        "\n",
        "      with tf.GradientTape() as g_tape:\n",
        "\n",
        "        # Sample random points in the latent space\n",
        "        random_latent_vectors = tf.random.normal((batch_size, self.latent_dim,1))\n",
        "        generated_samples = self.generator(random_latent_vectors, training=True)\n",
        "\n",
        "\n",
        "        ## THRESHOLD FOR GENERATOR'S OUTPUT ##\n",
        "      #generated_samples = tf.cast(tf.math.greater_equal(generated_samples, threshold), dtype=tf.float32)\n",
        "\n",
        "        # Assemble labels that say \"all real images\"\n",
        "        misleading_labels = tf.zeros((batch_size, 1))\n",
        "\n",
        "        # Train the generator (note that we should *not* update the weights\n",
        "        # of the discriminator)!\n",
        "        #with tf.GradientTape() as tape:\n",
        "        predictions = self.discriminator(generated_samples, training= False)\n",
        "        g_loss = self.loss_fn(misleading_labels, predictions)\n",
        "      grads = g_tape.gradient(g_loss, self.generator.trainable_variables)\n",
        "      self.g_optimizer.apply_gradients(zip(grads, self.generator.trainable_variables))\n",
        "\n",
        "        # Update metrics and return their value.\n",
        "      self.d_loss_tracker.update_state(d_loss)\n",
        "      self.g_loss_tracker.update_state(g_loss)\n",
        "      return {\n",
        "            \"d_loss\": self.d_loss_tracker.result(),\n",
        "            \"g_loss\": self.g_loss_tracker.result(),\n",
        "        }\n"
      ]
    },
    {
      "cell_type": "code",
      "execution_count": null,
      "metadata": {
        "id": "aLiVxcAXfCBK"
      },
      "outputs": [],
      "source": [
        "class GAN(Model):\n",
        "    def __init__(self, discriminator, generator, latent_dim):\n",
        "        super().__init__()\n",
        "        self.discriminator = discriminator\n",
        "        self.generator = generator\n",
        "        self.latent_dim = latent_dim\n",
        "        self.d_loss_tracker = tf.keras.metrics.Mean(name=\"d_loss\")\n",
        "        self.g_loss_tracker = tf.keras.metrics.Mean(name=\"g_loss\")\n",
        "\n",
        "    def compile(self, d_optimizer, g_optimizer, loss_fn):\n",
        "        super().compile()\n",
        "        self.d_optimizer = d_optimizer\n",
        "        self.g_optimizer = g_optimizer\n",
        "        self.loss_fn = loss_fn\n",
        "\n",
        "    def train_step(self, real_images):\n",
        "\n",
        "        # Sample random points in the latent space\n",
        "      threshold = 0.5\n",
        "      batch_size = tf.shape(real_images)[0]\n",
        "      random_latent_vectors = tf.random.normal((batch_size, self.latent_dim,1))\n",
        "\n",
        "        # Decode them to fake images\n",
        "      generated_samples = self.generator(random_latent_vectors, training=False)\n",
        "      generated_samples = tf.where(generated_samples >= threshold, tf.ones_like(generated_samples), tf.zeros_like(generated_samples))\n",
        "\n",
        "      with tf.GradientTape() as d_tape:\n",
        "\n",
        "        # Combine them with real images\n",
        "        combined_images = tf.concat([generated_samples, real_images], axis=0)\n",
        "\n",
        "        # Assemble labels discriminating real from fake images\n",
        "        labels = tf.concat([tf.ones((batch_size, 1)), tf.zeros((batch_size, 1))], axis=0)\n",
        "\n",
        "        # Add random noise to the labels - important trick!\n",
        "        #labels += 0.05 * tf.random.uniform(tf.shape(labels))\n",
        "        noise_real = -0.15*tf.random.uniform((batch_size,1))\n",
        "        noise_fake = 0.15*tf.random.uniform((batch_size,1))\n",
        "\n",
        "        labels += tf.concat([noise_fake, noise_real], axis=0)\n",
        "\n",
        "        # Train the discriminator\n",
        "        #with tf.GradientTape() as tape:\n",
        "        predictions = self.discriminator(combined_images, training=True)\n",
        "        d_loss = self.loss_fn(labels, predictions)\n",
        "      grads = d_tape.gradient(d_loss, self.discriminator.trainable_variables)\n",
        "      self.d_optimizer.apply_gradients(zip(grads, self.discriminator.trainable_variables))\n",
        "\n",
        "      with tf.GradientTape() as g_tape:\n",
        "\n",
        "        # Sample random points in the latent space\n",
        "        random_latent_vectors = tf.random.normal((batch_size, self.latent_dim,1))\n",
        "        generated_samples = self.generator(random_latent_vectors, training=True)\n",
        "\n",
        "\n",
        "        ## THRESHOLD FOR GENERATOR'S OUTPUT ##\n",
        "        #generated_samples = tf.where(generated_samples >= threshold, tf.ones_like(generated_samples), tf.zeros_like(generated_samples))\n",
        "\n",
        "        # Assemble labels that say \"all real images\"\n",
        "        misleading_labels = tf.zeros((batch_size, 1))\n",
        "\n",
        "        # Train the generator (note that we should *not* update the weights\n",
        "        # of the discriminator)!\n",
        "        #with tf.GradientTape() as tape:\n",
        "        predictions = self.discriminator(generated_samples, training= False)\n",
        "        g_loss = self.loss_fn(misleading_labels, predictions)\n",
        "      grads = g_tape.gradient(g_loss, self.generator.trainable_variables)\n",
        "      self.g_optimizer.apply_gradients(zip(grads, self.generator.trainable_variables))\n",
        "\n",
        "        # Update metrics and return their value.\n",
        "      self.d_loss_tracker.update_state(d_loss)\n",
        "      self.g_loss_tracker.update_state(g_loss)\n",
        "      return {\n",
        "            \"d_loss\": self.d_loss_tracker.result(),\n",
        "            \"g_loss\": self.g_loss_tracker.result(),\n",
        "        }"
      ]
    },
    {
      "cell_type": "code",
      "execution_count": null,
      "metadata": {
        "colab": {
          "base_uri": "https://localhost:8080/",
          "height": 108
        },
        "id": "vYGJJWtJ-4nu",
        "outputId": "d917c2ac-9393-4e03-ee95-4b7742ee566d"
      },
      "outputs": [
        {
          "ename": "SyntaxError",
          "evalue": "invalid syntax (<ipython-input-77-718850b9fc8d>, line 2)",
          "output_type": "error",
          "traceback": [
            "\u001b[0;36m  File \u001b[0;32m\"<ipython-input-77-718850b9fc8d>\"\u001b[0;36m, line \u001b[0;32m2\u001b[0m\n\u001b[0;31m    random_latent_vectors = tf.random.normal((16, 128,1))l\u001b[0m\n\u001b[0m                                                         ^\u001b[0m\n\u001b[0;31mSyntaxError\u001b[0m\u001b[0;31m:\u001b[0m invalid syntax\n"
          ]
        }
      ],
      "source": [
        "with tf.GradientTape() as tape:\n",
        "  random_latent_vectors = tf.random.normal((16, 128,1))\n",
        "  generated_samples = g_model(random_latent_vectors, training=False)\n",
        "\n",
        "        ## THRESHOLD FOR GENERATOR'S OUTPUT ##\n",
        "  #generated_samples = tf.where(generated_samples >= threshold, tf.ones_like(generated_samples), tf.zeros_like(generated_samples))\n",
        "\n",
        "  misleading_labels = tf.zeros((16, 1))\n",
        "\n",
        "  predictions = d_model(generated_samples, training= False)\n",
        "\n",
        "  g_loss = loss_function(misleading_labels, predictions)\n",
        "grads = tape.gradient(g_loss, g_model.trainable_variables)\n",
        "g_opt.apply_gradients(zip(grads, g_model.trainable_variables))\n",
        "\n",
        "print(g_loss)"
      ]
    },
    {
      "cell_type": "code",
      "execution_count": null,
      "metadata": {
        "id": "RtaIpvpolnL0"
      },
      "outputs": [],
      "source": [
        "import os\n",
        "from tensorflow.keras.preprocessing.image import array_to_img\n",
        "from tensorflow.keras.callbacks import Callback\n",
        "\n",
        "\n",
        "class ModelMonitor(Callback):\n",
        "  def __init__(self, num_img=2, latent_dim=128):\n",
        "    self.num_img = num_img\n",
        "    self.latent_dim = latent_dim\n",
        "\n",
        "  def on_epoch_end(self, epoch, logs=None):\n",
        "    random_latent_vectors = tf.random.normal((self.num_img, self.latent_dim,1))\n",
        "    generated_images = self.model.generator(random_latent_vectors)\n",
        "    generated_images *= 255\n",
        "    generated_images.numpy()\n",
        "    for i in range(1):\n",
        "      img = array_to_img(generated_images[i])\n",
        "      img.save(os.path.join('GAN_img', f'generated_image_{epoch}_{i}.png'))"
      ]
    },
    {
      "cell_type": "code",
      "execution_count": null,
      "metadata": {
        "colab": {
          "base_uri": "https://localhost:8080/"
        },
        "id": "NahVtNCOTFbF",
        "outputId": "a2823357-5315-42a6-ab1e-a36cc596ff95"
      },
      "outputs": [
        {
          "name": "stdout",
          "output_type": "stream",
          "text": [
            "Epoch 1/300\n",
            "32/32 [==============================] - 4s 33ms/step - d_loss: 0.6977 - g_loss: 0.6887\n",
            "Epoch 2/300\n",
            "32/32 [==============================] - 1s 30ms/step - d_loss: 0.7013 - g_loss: 0.6845\n",
            "Epoch 3/300\n",
            "32/32 [==============================] - 1s 29ms/step - d_loss: 0.6954 - g_loss: 0.6859\n",
            "Epoch 4/300\n",
            "32/32 [==============================] - 1s 33ms/step - d_loss: 0.6997 - g_loss: 0.6882\n",
            "Epoch 5/300\n",
            "32/32 [==============================] - 1s 26ms/step - d_loss: 0.6909 - g_loss: 0.6931\n",
            "Epoch 6/300\n",
            "32/32 [==============================] - 1s 25ms/step - d_loss: 0.7005 - g_loss: 0.6912\n",
            "Epoch 7/300\n",
            "32/32 [==============================] - 1s 29ms/step - d_loss: 0.7133 - g_loss: 0.6723\n",
            "Epoch 8/300\n",
            "32/32 [==============================] - 1s 25ms/step - d_loss: 0.7059 - g_loss: 0.6761\n",
            "Epoch 9/300\n",
            "32/32 [==============================] - 1s 25ms/step - d_loss: 0.7036 - g_loss: 0.6829\n",
            "Epoch 10/300\n",
            "32/32 [==============================] - 1s 25ms/step - d_loss: 0.6976 - g_loss: 0.6908\n",
            "Epoch 11/300\n",
            "32/32 [==============================] - 1s 22ms/step - d_loss: 0.6932 - g_loss: 0.6956\n",
            "Epoch 12/300\n",
            "32/32 [==============================] - 1s 17ms/step - d_loss: 0.6938 - g_loss: 0.6936\n",
            "Epoch 13/300\n",
            "32/32 [==============================] - 0s 13ms/step - d_loss: 0.6977 - g_loss: 0.6944\n",
            "Epoch 14/300\n",
            "32/32 [==============================] - 0s 13ms/step - d_loss: 0.6910 - g_loss: 0.6964\n",
            "Epoch 15/300\n",
            "32/32 [==============================] - 0s 13ms/step - d_loss: 0.6943 - g_loss: 0.6922\n",
            "Epoch 16/300\n",
            "32/32 [==============================] - 0s 14ms/step - d_loss: 0.6966 - g_loss: 0.6872\n",
            "Epoch 17/300\n",
            "32/32 [==============================] - 0s 14ms/step - d_loss: 0.6909 - g_loss: 0.6891\n",
            "Epoch 18/300\n",
            "32/32 [==============================] - 1s 18ms/step - d_loss: 0.6927 - g_loss: 0.6872\n",
            "Epoch 19/300\n",
            "32/32 [==============================] - 1s 18ms/step - d_loss: 0.6858 - g_loss: 0.6978\n",
            "Epoch 20/300\n",
            "32/32 [==============================] - 1s 19ms/step - d_loss: 0.6754 - g_loss: 0.7128\n",
            "Epoch 21/300\n",
            "32/32 [==============================] - 1s 18ms/step - d_loss: 0.6701 - g_loss: 0.7167\n",
            "Epoch 22/300\n",
            "32/32 [==============================] - 1s 19ms/step - d_loss: 0.6966 - g_loss: 0.6720\n",
            "Epoch 23/300\n",
            "32/32 [==============================] - 1s 20ms/step - d_loss: 0.7132 - g_loss: 0.6531\n",
            "Epoch 24/300\n",
            "32/32 [==============================] - 1s 19ms/step - d_loss: 0.7093 - g_loss: 0.6656\n",
            "Epoch 25/300\n",
            "32/32 [==============================] - 0s 14ms/step - d_loss: 0.6955 - g_loss: 0.6849\n",
            "Epoch 26/300\n",
            "32/32 [==============================] - 0s 13ms/step - d_loss: 0.6921 - g_loss: 0.6952\n",
            "Epoch 27/300\n",
            "32/32 [==============================] - 0s 13ms/step - d_loss: 0.6887 - g_loss: 0.6908\n",
            "Epoch 28/300\n",
            "32/32 [==============================] - 0s 13ms/step - d_loss: 0.7011 - g_loss: 0.6640\n",
            "Epoch 29/300\n",
            "32/32 [==============================] - 0s 13ms/step - d_loss: 0.7031 - g_loss: 0.6560\n",
            "Epoch 30/300\n",
            "32/32 [==============================] - 0s 13ms/step - d_loss: 0.7014 - g_loss: 0.6621\n",
            "Epoch 31/300\n",
            "32/32 [==============================] - 0s 13ms/step - d_loss: 0.7108 - g_loss: 0.6563\n",
            "Epoch 32/300\n",
            "32/32 [==============================] - 0s 13ms/step - d_loss: 0.7165 - g_loss: 0.6429\n",
            "Epoch 33/300\n",
            "32/32 [==============================] - 0s 13ms/step - d_loss: 0.7114 - g_loss: 0.6538\n",
            "Epoch 34/300\n",
            "32/32 [==============================] - 0s 13ms/step - d_loss: 0.6988 - g_loss: 0.6678\n",
            "Epoch 35/300\n",
            "32/32 [==============================] - 0s 13ms/step - d_loss: 0.6941 - g_loss: 0.6734\n",
            "Epoch 36/300\n",
            "32/32 [==============================] - 0s 13ms/step - d_loss: 0.6943 - g_loss: 0.6796\n",
            "Epoch 37/300\n",
            "32/32 [==============================] - 0s 14ms/step - d_loss: 0.6928 - g_loss: 0.6884\n",
            "Epoch 38/300\n",
            "32/32 [==============================] - 0s 14ms/step - d_loss: 0.6903 - g_loss: 0.6861\n",
            "Epoch 39/300\n",
            "32/32 [==============================] - 0s 13ms/step - d_loss: 0.6979 - g_loss: 0.6904\n",
            "Epoch 40/300\n",
            "32/32 [==============================] - 0s 13ms/step - d_loss: 0.6971 - g_loss: 0.6913\n",
            "Epoch 41/300\n",
            "32/32 [==============================] - 0s 14ms/step - d_loss: 0.6939 - g_loss: 0.7074\n",
            "Epoch 42/300\n",
            "32/32 [==============================] - 1s 21ms/step - d_loss: 0.6821 - g_loss: 0.7170\n",
            "Epoch 43/300\n",
            "32/32 [==============================] - 1s 18ms/step - d_loss: 0.6951 - g_loss: 0.7012\n",
            "Epoch 44/300\n",
            "32/32 [==============================] - 1s 18ms/step - d_loss: 0.6931 - g_loss: 0.6947\n",
            "Epoch 45/300\n",
            "32/32 [==============================] - 1s 19ms/step - d_loss: 0.6978 - g_loss: 0.6809\n",
            "Epoch 46/300\n",
            "32/32 [==============================] - 1s 17ms/step - d_loss: 0.7014 - g_loss: 0.6719\n",
            "Epoch 47/300\n",
            "32/32 [==============================] - 1s 19ms/step - d_loss: 0.6911 - g_loss: 0.6800\n",
            "Epoch 48/300\n",
            "32/32 [==============================] - 1s 20ms/step - d_loss: 0.6880 - g_loss: 0.6782\n",
            "Epoch 49/300\n",
            "32/32 [==============================] - 1s 16ms/step - d_loss: 0.6983 - g_loss: 0.6598\n",
            "Epoch 50/300\n",
            "32/32 [==============================] - 0s 13ms/step - d_loss: 0.7039 - g_loss: 0.6577\n",
            "Epoch 51/300\n",
            "32/32 [==============================] - 0s 13ms/step - d_loss: 0.7020 - g_loss: 0.6616\n",
            "Epoch 52/300\n",
            "32/32 [==============================] - 0s 13ms/step - d_loss: 0.6970 - g_loss: 0.6737\n",
            "Epoch 53/300\n",
            "32/32 [==============================] - 0s 13ms/step - d_loss: 0.6976 - g_loss: 0.6833\n",
            "Epoch 54/300\n",
            "32/32 [==============================] - 0s 14ms/step - d_loss: 0.6874 - g_loss: 0.6944\n",
            "Epoch 55/300\n",
            "32/32 [==============================] - 0s 14ms/step - d_loss: 0.6789 - g_loss: 0.7029\n",
            "Epoch 56/300\n",
            "32/32 [==============================] - 0s 14ms/step - d_loss: 0.6803 - g_loss: 0.7048\n",
            "Epoch 57/300\n",
            "32/32 [==============================] - 0s 13ms/step - d_loss: 0.6882 - g_loss: 0.7021\n",
            "Epoch 58/300\n",
            "32/32 [==============================] - 0s 14ms/step - d_loss: 0.6983 - g_loss: 0.6850\n",
            "Epoch 59/300\n",
            "32/32 [==============================] - 0s 14ms/step - d_loss: 0.7111 - g_loss: 0.6700\n",
            "Epoch 60/300\n",
            "32/32 [==============================] - 0s 13ms/step - d_loss: 0.7078 - g_loss: 0.6787\n",
            "Epoch 61/300\n",
            "32/32 [==============================] - 0s 13ms/step - d_loss: 0.7064 - g_loss: 0.6785\n",
            "Epoch 62/300\n",
            "32/32 [==============================] - 0s 14ms/step - d_loss: 0.7017 - g_loss: 0.6750\n",
            "Epoch 63/300\n",
            "32/32 [==============================] - 0s 13ms/step - d_loss: 0.7048 - g_loss: 0.6580\n",
            "Epoch 64/300\n",
            "32/32 [==============================] - 0s 14ms/step - d_loss: 0.7054 - g_loss: 0.6504\n",
            "Epoch 65/300\n",
            "32/32 [==============================] - 0s 14ms/step - d_loss: 0.7047 - g_loss: 0.6553\n",
            "Epoch 66/300\n",
            "32/32 [==============================] - 0s 14ms/step - d_loss: 0.6977 - g_loss: 0.6656\n",
            "Epoch 67/300\n",
            "32/32 [==============================] - 0s 13ms/step - d_loss: 0.6808 - g_loss: 0.6841\n",
            "Epoch 68/300\n",
            "32/32 [==============================] - 0s 14ms/step - d_loss: 0.6702 - g_loss: 0.6985\n",
            "Epoch 69/300\n",
            "32/32 [==============================] - 1s 16ms/step - d_loss: 0.6600 - g_loss: 0.7015\n",
            "Epoch 70/300\n",
            "32/32 [==============================] - 1s 18ms/step - d_loss: 0.7078 - g_loss: 0.6229\n",
            "Epoch 71/300\n",
            "32/32 [==============================] - 1s 19ms/step - d_loss: 0.7034 - g_loss: 0.6396\n",
            "Epoch 72/300\n",
            "32/32 [==============================] - 1s 18ms/step - d_loss: 0.7023 - g_loss: 0.6533\n",
            "Epoch 73/300\n",
            "32/32 [==============================] - 1s 18ms/step - d_loss: 0.7035 - g_loss: 0.6675\n",
            "Epoch 74/300\n",
            "32/32 [==============================] - 1s 19ms/step - d_loss: 0.7052 - g_loss: 0.6811\n",
            "Epoch 75/300\n",
            "32/32 [==============================] - 1s 20ms/step - d_loss: 0.6971 - g_loss: 0.6900\n",
            "Epoch 76/300\n",
            "32/32 [==============================] - 0s 15ms/step - d_loss: 0.6946 - g_loss: 0.6994\n",
            "Epoch 77/300\n",
            "32/32 [==============================] - 0s 13ms/step - d_loss: 0.6919 - g_loss: 0.7075\n",
            "Epoch 78/300\n",
            "32/32 [==============================] - 0s 13ms/step - d_loss: 0.6922 - g_loss: 0.7133\n",
            "Epoch 79/300\n",
            "32/32 [==============================] - 0s 13ms/step - d_loss: 0.6844 - g_loss: 0.7214\n",
            "Epoch 80/300\n",
            "32/32 [==============================] - 0s 13ms/step - d_loss: 0.6882 - g_loss: 0.7292\n",
            "Epoch 81/300\n",
            "32/32 [==============================] - 0s 13ms/step - d_loss: 0.6863 - g_loss: 0.7361\n",
            "Epoch 82/300\n",
            "32/32 [==============================] - 0s 13ms/step - d_loss: 0.6808 - g_loss: 0.7432\n",
            "Epoch 83/300\n",
            "32/32 [==============================] - 0s 14ms/step - d_loss: 0.6805 - g_loss: 0.7469\n",
            "Epoch 84/300\n",
            "32/32 [==============================] - 0s 13ms/step - d_loss: 0.6799 - g_loss: 0.7562\n",
            "Epoch 85/300\n",
            "32/32 [==============================] - 0s 13ms/step - d_loss: 0.6803 - g_loss: 0.7665\n",
            "Epoch 86/300\n",
            "32/32 [==============================] - 0s 14ms/step - d_loss: 0.6792 - g_loss: 0.7805\n",
            "Epoch 87/300\n",
            "32/32 [==============================] - 0s 14ms/step - d_loss: 0.6725 - g_loss: 0.7997\n",
            "Epoch 88/300\n",
            "32/32 [==============================] - 0s 13ms/step - d_loss: 0.6679 - g_loss: 0.8116\n",
            "Epoch 89/300\n",
            "32/32 [==============================] - 0s 13ms/step - d_loss: 0.6705 - g_loss: 0.8184\n",
            "Epoch 90/300\n",
            "32/32 [==============================] - 0s 13ms/step - d_loss: 0.6627 - g_loss: 0.8237\n",
            "Epoch 91/300\n",
            "32/32 [==============================] - 0s 14ms/step - d_loss: 0.6592 - g_loss: 0.8372\n",
            "Epoch 92/300\n",
            "32/32 [==============================] - 0s 14ms/step - d_loss: 0.6644 - g_loss: 0.8445\n",
            "Epoch 93/300\n",
            "32/32 [==============================] - 0s 14ms/step - d_loss: 0.6559 - g_loss: 0.8535\n",
            "Epoch 94/300\n",
            "32/32 [==============================] - 0s 14ms/step - d_loss: 0.6535 - g_loss: 0.8635\n",
            "Epoch 95/300\n",
            "32/32 [==============================] - 1s 18ms/step - d_loss: 0.6485 - g_loss: 0.8745\n",
            "Epoch 96/300\n",
            "32/32 [==============================] - 1s 17ms/step - d_loss: 0.6474 - g_loss: 0.8822\n",
            "Epoch 97/300\n",
            "32/32 [==============================] - 1s 19ms/step - d_loss: 0.6416 - g_loss: 0.8789\n",
            "Epoch 98/300\n",
            "32/32 [==============================] - 1s 18ms/step - d_loss: 0.6397 - g_loss: 0.8838\n",
            "Epoch 99/300\n",
            "32/32 [==============================] - 1s 18ms/step - d_loss: 0.6375 - g_loss: 0.8905\n",
            "Epoch 100/300\n",
            "32/32 [==============================] - 1s 20ms/step - d_loss: 0.6273 - g_loss: 0.8945\n",
            "Epoch 101/300\n",
            "32/32 [==============================] - 1s 21ms/step - d_loss: 0.6210 - g_loss: 0.8913\n",
            "Epoch 102/300\n",
            "32/32 [==============================] - 0s 15ms/step - d_loss: 0.6201 - g_loss: 0.8955\n",
            "Epoch 103/300\n",
            "32/32 [==============================] - 0s 14ms/step - d_loss: 0.6164 - g_loss: 0.9032\n",
            "Epoch 104/300\n",
            "32/32 [==============================] - 0s 14ms/step - d_loss: 0.6091 - g_loss: 0.9086\n",
            "Epoch 105/300\n",
            "32/32 [==============================] - 0s 13ms/step - d_loss: 0.5987 - g_loss: 0.9136\n",
            "Epoch 106/300\n",
            "32/32 [==============================] - 0s 14ms/step - d_loss: 0.5893 - g_loss: 0.9212\n",
            "Epoch 107/300\n",
            "32/32 [==============================] - 0s 13ms/step - d_loss: 0.5905 - g_loss: 0.9229\n",
            "Epoch 108/300\n",
            "32/32 [==============================] - 0s 13ms/step - d_loss: 0.5809 - g_loss: 0.9312\n",
            "Epoch 109/300\n",
            "32/32 [==============================] - 0s 13ms/step - d_loss: 0.5756 - g_loss: 0.9433\n",
            "Epoch 110/300\n",
            "32/32 [==============================] - 0s 14ms/step - d_loss: 0.5679 - g_loss: 0.9496\n",
            "Epoch 111/300\n",
            "32/32 [==============================] - 0s 14ms/step - d_loss: 0.5569 - g_loss: 0.9675\n",
            "Epoch 112/300\n",
            "32/32 [==============================] - 0s 14ms/step - d_loss: 0.5511 - g_loss: 0.9826\n",
            "Epoch 113/300\n",
            "32/32 [==============================] - 0s 14ms/step - d_loss: 0.5433 - g_loss: 0.9997\n",
            "Epoch 114/300\n",
            "32/32 [==============================] - 0s 14ms/step - d_loss: 0.5348 - g_loss: 0.9974\n",
            "Epoch 115/300\n",
            "32/32 [==============================] - 0s 14ms/step - d_loss: 0.5188 - g_loss: 1.0096\n",
            "Epoch 116/300\n",
            "32/32 [==============================] - 0s 13ms/step - d_loss: 0.6079 - g_loss: 0.8596\n",
            "Epoch 117/300\n",
            "32/32 [==============================] - 0s 14ms/step - d_loss: 0.9652 - g_loss: 0.3269\n",
            "Epoch 118/300\n",
            "32/32 [==============================] - 0s 15ms/step - d_loss: 0.8948 - g_loss: 0.3281\n",
            "Epoch 119/300\n",
            "32/32 [==============================] - 1s 17ms/step - d_loss: 0.8998 - g_loss: 0.3269\n",
            "Epoch 120/300\n",
            "32/32 [==============================] - 1s 17ms/step - d_loss: 0.8705 - g_loss: 0.3534\n",
            "Epoch 121/300\n",
            "32/32 [==============================] - 1s 19ms/step - d_loss: 0.8705 - g_loss: 0.3646\n",
            "Epoch 122/300\n",
            "32/32 [==============================] - 1s 18ms/step - d_loss: 0.8210 - g_loss: 0.4152\n",
            "Epoch 123/300\n",
            "32/32 [==============================] - 1s 18ms/step - d_loss: 0.7789 - g_loss: 0.4654\n",
            "Epoch 124/300\n",
            "32/32 [==============================] - 1s 19ms/step - d_loss: 0.7699 - g_loss: 0.4846\n",
            "Epoch 125/300\n",
            "32/32 [==============================] - 1s 18ms/step - d_loss: 0.7773 - g_loss: 0.4789\n",
            "Epoch 126/300\n",
            "32/32 [==============================] - 1s 16ms/step - d_loss: 0.7686 - g_loss: 0.5024\n",
            "Epoch 127/300\n",
            "32/32 [==============================] - 0s 14ms/step - d_loss: 0.7575 - g_loss: 0.5148\n",
            "Epoch 128/300\n",
            "32/32 [==============================] - 0s 14ms/step - d_loss: 0.7539 - g_loss: 0.5213\n",
            "Epoch 129/300\n",
            "32/32 [==============================] - 0s 14ms/step - d_loss: 0.7511 - g_loss: 0.5313\n",
            "Epoch 130/300\n",
            "32/32 [==============================] - 0s 13ms/step - d_loss: 0.7385 - g_loss: 0.5449\n",
            "Epoch 131/300\n",
            "32/32 [==============================] - 0s 13ms/step - d_loss: 0.7296 - g_loss: 0.5646\n",
            "Epoch 132/300\n",
            "32/32 [==============================] - 0s 14ms/step - d_loss: 0.7107 - g_loss: 0.5844\n",
            "Epoch 133/300\n",
            "32/32 [==============================] - 0s 13ms/step - d_loss: 0.6956 - g_loss: 0.6024\n",
            "Epoch 134/300\n",
            "32/32 [==============================] - 0s 13ms/step - d_loss: 0.6925 - g_loss: 0.6054\n",
            "Epoch 135/300\n",
            "32/32 [==============================] - 0s 13ms/step - d_loss: 0.6942 - g_loss: 0.5892\n",
            "Epoch 136/300\n",
            "32/32 [==============================] - 0s 13ms/step - d_loss: 0.6942 - g_loss: 0.5882\n",
            "Epoch 137/300\n",
            "32/32 [==============================] - 0s 14ms/step - d_loss: 0.6891 - g_loss: 0.5893\n",
            "Epoch 138/300\n",
            "32/32 [==============================] - 0s 13ms/step - d_loss: 0.6826 - g_loss: 0.5945\n",
            "Epoch 139/300\n",
            "32/32 [==============================] - 0s 14ms/step - d_loss: 0.7014 - g_loss: 0.5647\n",
            "Epoch 140/300\n",
            "32/32 [==============================] - 0s 14ms/step - d_loss: 0.7143 - g_loss: 0.5620\n",
            "Epoch 141/300\n",
            "32/32 [==============================] - 0s 13ms/step - d_loss: 0.7116 - g_loss: 0.5808\n",
            "Epoch 142/300\n",
            "32/32 [==============================] - 0s 13ms/step - d_loss: 0.7026 - g_loss: 0.6143\n",
            "Epoch 143/300\n",
            "32/32 [==============================] - 0s 13ms/step - d_loss: 0.6884 - g_loss: 0.6506\n",
            "Epoch 144/300\n",
            "32/32 [==============================] - 0s 14ms/step - d_loss: 0.6795 - g_loss: 0.6809\n",
            "Epoch 145/300\n",
            "32/32 [==============================] - 1s 17ms/step - d_loss: 0.6835 - g_loss: 0.6742\n",
            "Epoch 146/300\n",
            "32/32 [==============================] - 1s 22ms/step - d_loss: 0.6899 - g_loss: 0.6776\n",
            "Epoch 147/300\n",
            "32/32 [==============================] - 1s 20ms/step - d_loss: 0.6915 - g_loss: 0.6872\n",
            "Epoch 148/300\n",
            "32/32 [==============================] - 1s 25ms/step - d_loss: 0.6937 - g_loss: 0.6897\n",
            "Epoch 149/300\n",
            "32/32 [==============================] - 1s 21ms/step - d_loss: 0.6954 - g_loss: 0.6898\n",
            "Epoch 150/300\n",
            "32/32 [==============================] - 1s 22ms/step - d_loss: 0.6902 - g_loss: 0.6972\n",
            "Epoch 151/300\n",
            "32/32 [==============================] - 1s 23ms/step - d_loss: 0.6744 - g_loss: 0.7075\n",
            "Epoch 152/300\n",
            "32/32 [==============================] - 1s 23ms/step - d_loss: 0.6796 - g_loss: 0.6999\n",
            "Epoch 153/300\n",
            "32/32 [==============================] - 1s 22ms/step - d_loss: 0.6888 - g_loss: 0.6877\n",
            "Epoch 154/300\n",
            "32/32 [==============================] - 1s 22ms/step - d_loss: 0.6887 - g_loss: 0.6985\n",
            "Epoch 155/300\n",
            "32/32 [==============================] - 1s 31ms/step - d_loss: 0.6855 - g_loss: 0.7321\n",
            "Epoch 156/300\n",
            "32/32 [==============================] - 1s 32ms/step - d_loss: 0.6840 - g_loss: 0.7516\n",
            "Epoch 157/300\n",
            "32/32 [==============================] - 0s 15ms/step - d_loss: 0.6936 - g_loss: 0.7274\n",
            "Epoch 158/300\n",
            "32/32 [==============================] - 0s 14ms/step - d_loss: 0.7139 - g_loss: 0.6713\n",
            "Epoch 159/300\n",
            "32/32 [==============================] - 0s 14ms/step - d_loss: 0.7155 - g_loss: 0.6458\n",
            "Epoch 160/300\n",
            "32/32 [==============================] - 0s 14ms/step - d_loss: 0.7010 - g_loss: 0.6453\n",
            "Epoch 161/300\n",
            "32/32 [==============================] - 0s 14ms/step - d_loss: 0.6894 - g_loss: 0.6540\n",
            "Epoch 162/300\n",
            "32/32 [==============================] - 0s 13ms/step - d_loss: 0.6850 - g_loss: 0.6452\n",
            "Epoch 163/300\n",
            "32/32 [==============================] - 0s 13ms/step - d_loss: 0.6905 - g_loss: 0.6380\n",
            "Epoch 164/300\n",
            "32/32 [==============================] - 0s 13ms/step - d_loss: 0.6861 - g_loss: 0.6487\n",
            "Epoch 165/300\n",
            "32/32 [==============================] - 0s 13ms/step - d_loss: 0.6858 - g_loss: 0.6428\n",
            "Epoch 166/300\n",
            "32/32 [==============================] - 0s 14ms/step - d_loss: 0.7036 - g_loss: 0.6190\n",
            "Epoch 167/300\n",
            "32/32 [==============================] - 0s 13ms/step - d_loss: 0.7287 - g_loss: 0.5929\n",
            "Epoch 168/300\n",
            "32/32 [==============================] - 0s 13ms/step - d_loss: 0.7149 - g_loss: 0.6249\n",
            "Epoch 169/300\n",
            "32/32 [==============================] - 0s 13ms/step - d_loss: 0.7003 - g_loss: 0.6513\n",
            "Epoch 170/300\n",
            "32/32 [==============================] - 0s 13ms/step - d_loss: 0.6918 - g_loss: 0.6729\n",
            "Epoch 171/300\n",
            "32/32 [==============================] - 0s 14ms/step - d_loss: 0.6845 - g_loss: 0.6835\n",
            "Epoch 172/300\n",
            "32/32 [==============================] - 0s 13ms/step - d_loss: 0.6916 - g_loss: 0.6674\n",
            "Epoch 173/300\n",
            "32/32 [==============================] - 1s 18ms/step - d_loss: 0.6935 - g_loss: 0.6881\n",
            "Epoch 174/300\n",
            "32/32 [==============================] - 1s 17ms/step - d_loss: 0.6838 - g_loss: 0.7130\n",
            "Epoch 175/300\n",
            "32/32 [==============================] - 1s 18ms/step - d_loss: 0.6803 - g_loss: 0.7340\n",
            "Epoch 176/300\n",
            "32/32 [==============================] - 1s 18ms/step - d_loss: 0.6764 - g_loss: 0.7521\n",
            "Epoch 177/300\n",
            "32/32 [==============================] - 1s 19ms/step - d_loss: 0.6781 - g_loss: 0.7626\n",
            "Epoch 178/300\n",
            "32/32 [==============================] - 1s 21ms/step - d_loss: 0.6654 - g_loss: 0.7929\n",
            "Epoch 179/300\n",
            "32/32 [==============================] - 1s 18ms/step - d_loss: 0.6585 - g_loss: 0.8488\n",
            "Epoch 180/300\n",
            "32/32 [==============================] - 0s 14ms/step - d_loss: 0.6551 - g_loss: 0.8840\n",
            "Epoch 181/300\n",
            "32/32 [==============================] - 0s 15ms/step - d_loss: 0.6472 - g_loss: 0.9042\n",
            "Epoch 182/300\n",
            "32/32 [==============================] - 0s 13ms/step - d_loss: 0.6412 - g_loss: 0.9144\n",
            "Epoch 183/300\n",
            "32/32 [==============================] - 0s 14ms/step - d_loss: 0.6407 - g_loss: 0.9227\n",
            "Epoch 184/300\n",
            "32/32 [==============================] - 0s 13ms/step - d_loss: 0.6359 - g_loss: 0.9250\n",
            "Epoch 185/300\n",
            "32/32 [==============================] - 0s 13ms/step - d_loss: 0.6315 - g_loss: 0.9308\n",
            "Epoch 186/300\n",
            "32/32 [==============================] - 1s 17ms/step - d_loss: 0.6230 - g_loss: 0.9423\n",
            "Epoch 187/300\n",
            "32/32 [==============================] - 1s 27ms/step - d_loss: 0.6177 - g_loss: 0.9553\n",
            "Epoch 188/300\n",
            "32/32 [==============================] - 1s 30ms/step - d_loss: 0.6077 - g_loss: 0.9668\n",
            "Epoch 189/300\n",
            "32/32 [==============================] - 0s 15ms/step - d_loss: 0.6035 - g_loss: 0.9732\n",
            "Epoch 190/300\n",
            "32/32 [==============================] - 0s 14ms/step - d_loss: 0.6002 - g_loss: 0.9762\n",
            "Epoch 191/300\n",
            "32/32 [==============================] - 0s 13ms/step - d_loss: 0.5858 - g_loss: 0.9860\n",
            "Epoch 192/300\n",
            "32/32 [==============================] - 0s 14ms/step - d_loss: 0.5746 - g_loss: 1.0011\n",
            "Epoch 193/300\n",
            "32/32 [==============================] - 0s 13ms/step - d_loss: 0.5713 - g_loss: 1.0158\n",
            "Epoch 194/300\n",
            "32/32 [==============================] - 0s 14ms/step - d_loss: 0.5638 - g_loss: 1.0180\n",
            "Epoch 195/300\n",
            "32/32 [==============================] - 1s 17ms/step - d_loss: 0.5558 - g_loss: 1.0282\n",
            "Epoch 196/300\n",
            "32/32 [==============================] - 1s 18ms/step - d_loss: 0.5510 - g_loss: 1.0316\n",
            "Epoch 197/300\n",
            "32/32 [==============================] - 1s 19ms/step - d_loss: 0.5415 - g_loss: 1.0428\n",
            "Epoch 198/300\n",
            "32/32 [==============================] - 1s 17ms/step - d_loss: 0.5348 - g_loss: 1.0451\n",
            "Epoch 199/300\n",
            "32/32 [==============================] - 1s 18ms/step - d_loss: 0.5284 - g_loss: 1.0579\n",
            "Epoch 200/300\n",
            "32/32 [==============================] - 1s 19ms/step - d_loss: 0.5128 - g_loss: 1.0646\n",
            "Epoch 201/300\n",
            "32/32 [==============================] - 1s 20ms/step - d_loss: 0.5166 - g_loss: 1.0708\n",
            "Epoch 202/300\n",
            "32/32 [==============================] - 0s 14ms/step - d_loss: 0.5098 - g_loss: 1.0900\n",
            "Epoch 203/300\n",
            "32/32 [==============================] - 0s 14ms/step - d_loss: 0.4847 - g_loss: 1.1038\n",
            "Epoch 204/300\n",
            "32/32 [==============================] - 0s 15ms/step - d_loss: 0.4793 - g_loss: 1.1182\n",
            "Epoch 205/300\n",
            "32/32 [==============================] - 0s 14ms/step - d_loss: 0.4707 - g_loss: 1.1165\n",
            "Epoch 206/300\n",
            "32/32 [==============================] - 0s 14ms/step - d_loss: 0.4607 - g_loss: 1.1194\n",
            "Epoch 207/300\n",
            "32/32 [==============================] - 0s 13ms/step - d_loss: 0.4566 - g_loss: 1.1395\n",
            "Epoch 208/300\n",
            "32/32 [==============================] - 0s 14ms/step - d_loss: 0.4406 - g_loss: 1.1583\n",
            "Epoch 209/300\n",
            "32/32 [==============================] - 0s 14ms/step - d_loss: 0.4366 - g_loss: 1.1687\n",
            "Epoch 210/300\n",
            "32/32 [==============================] - 0s 13ms/step - d_loss: 0.4232 - g_loss: 1.1966\n",
            "Epoch 211/300\n",
            "32/32 [==============================] - 0s 14ms/step - d_loss: 0.4048 - g_loss: 1.2191\n",
            "Epoch 212/300\n",
            "32/32 [==============================] - 0s 14ms/step - d_loss: 0.4071 - g_loss: 1.2481\n",
            "Epoch 213/300\n",
            "32/32 [==============================] - 0s 14ms/step - d_loss: 0.3849 - g_loss: 1.2716\n",
            "Epoch 214/300\n",
            "32/32 [==============================] - 0s 14ms/step - d_loss: 0.3745 - g_loss: 1.2923\n",
            "Epoch 215/300\n",
            "32/32 [==============================] - 0s 14ms/step - d_loss: 0.3702 - g_loss: 1.3185\n",
            "Epoch 216/300\n",
            "32/32 [==============================] - 0s 14ms/step - d_loss: 0.3589 - g_loss: 1.3186\n",
            "Epoch 217/300\n",
            "32/32 [==============================] - 0s 14ms/step - d_loss: 0.3471 - g_loss: 1.3348\n",
            "Epoch 218/300\n",
            "32/32 [==============================] - 0s 14ms/step - d_loss: 0.3428 - g_loss: 1.3547\n",
            "Epoch 219/300\n",
            "32/32 [==============================] - 0s 15ms/step - d_loss: 0.3183 - g_loss: 1.3642\n",
            "Epoch 220/300\n",
            "32/32 [==============================] - 0s 14ms/step - d_loss: 0.3214 - g_loss: 1.3883\n",
            "Epoch 221/300\n",
            "32/32 [==============================] - 0s 13ms/step - d_loss: 0.3010 - g_loss: 1.4009\n",
            "Epoch 222/300\n",
            "32/32 [==============================] - 1s 18ms/step - d_loss: 0.2954 - g_loss: 1.4365\n",
            "Epoch 223/300\n",
            "32/32 [==============================] - 1s 17ms/step - d_loss: 0.2822 - g_loss: 1.4549\n",
            "Epoch 224/300\n",
            "32/32 [==============================] - 1s 19ms/step - d_loss: 0.2757 - g_loss: 1.4672\n",
            "Epoch 225/300\n",
            "32/32 [==============================] - 1s 38ms/step - d_loss: 0.2569 - g_loss: 1.4916\n",
            "Epoch 226/300\n",
            "32/32 [==============================] - 1s 40ms/step - d_loss: 0.2445 - g_loss: 1.5454\n",
            "Epoch 227/300\n",
            "32/32 [==============================] - 1s 16ms/step - d_loss: 0.2299 - g_loss: 1.5522\n",
            "Epoch 228/300\n",
            "32/32 [==============================] - 0s 14ms/step - d_loss: 0.2304 - g_loss: 1.5534\n",
            "Epoch 229/300\n",
            "32/32 [==============================] - 0s 14ms/step - d_loss: 0.2273 - g_loss: 1.5884\n",
            "Epoch 230/300\n",
            "32/32 [==============================] - 0s 14ms/step - d_loss: 0.2121 - g_loss: 1.6362\n",
            "Epoch 231/300\n",
            "32/32 [==============================] - 0s 14ms/step - d_loss: 0.2060 - g_loss: 1.6392\n",
            "Epoch 232/300\n",
            "32/32 [==============================] - 0s 14ms/step - d_loss: 0.1840 - g_loss: 1.6621\n",
            "Epoch 233/300\n",
            "32/32 [==============================] - 0s 13ms/step - d_loss: 0.1812 - g_loss: 1.6783\n",
            "Epoch 234/300\n",
            "32/32 [==============================] - 0s 14ms/step - d_loss: 0.1765 - g_loss: 1.6987\n",
            "Epoch 235/300\n",
            "32/32 [==============================] - 0s 13ms/step - d_loss: 0.1523 - g_loss: 1.7359\n",
            "Epoch 236/300\n",
            "32/32 [==============================] - 0s 14ms/step - d_loss: 0.1540 - g_loss: 1.7919\n",
            "Epoch 237/300\n",
            "32/32 [==============================] - 0s 13ms/step - d_loss: 0.1504 - g_loss: 1.8051\n",
            "Epoch 238/300\n",
            "32/32 [==============================] - 0s 14ms/step - d_loss: 0.1373 - g_loss: 1.8225\n",
            "Epoch 239/300\n",
            "32/32 [==============================] - 0s 13ms/step - d_loss: 0.1301 - g_loss: 1.8395\n",
            "Epoch 240/300\n",
            "32/32 [==============================] - 0s 14ms/step - d_loss: 0.1095 - g_loss: 1.8863\n",
            "Epoch 241/300\n",
            "32/32 [==============================] - 0s 14ms/step - d_loss: 0.1044 - g_loss: 1.8954\n",
            "Epoch 242/300\n",
            "32/32 [==============================] - 0s 14ms/step - d_loss: 0.1073 - g_loss: 1.9099\n",
            "Epoch 243/300\n",
            "32/32 [==============================] - 0s 13ms/step - d_loss: 0.1054 - g_loss: 1.9304\n",
            "Epoch 244/300\n",
            "32/32 [==============================] - 0s 14ms/step - d_loss: 0.1003 - g_loss: 1.9441\n",
            "Epoch 245/300\n",
            "32/32 [==============================] - 1s 17ms/step - d_loss: 0.0614 - g_loss: 2.0241\n",
            "Epoch 246/300\n",
            "32/32 [==============================] - 1s 17ms/step - d_loss: 0.0544 - g_loss: 2.0391\n",
            "Epoch 247/300\n",
            "32/32 [==============================] - 1s 18ms/step - d_loss: 0.0630 - g_loss: 2.0561\n",
            "Epoch 248/300\n",
            "32/32 [==============================] - 1s 18ms/step - d_loss: 0.0558 - g_loss: 2.0609\n",
            "Epoch 249/300\n",
            "32/32 [==============================] - 1s 19ms/step - d_loss: 0.0410 - g_loss: 2.0737\n",
            "Epoch 250/300\n",
            "32/32 [==============================] - 1s 19ms/step - d_loss: 0.0396 - g_loss: 2.0973\n",
            "Epoch 251/300\n",
            "32/32 [==============================] - 1s 20ms/step - d_loss: 0.0139 - g_loss: 2.1556\n",
            "Epoch 252/300\n",
            "32/32 [==============================] - 0s 15ms/step - d_loss: 0.0281 - g_loss: 2.1922\n",
            "Epoch 253/300\n",
            "32/32 [==============================] - 0s 13ms/step - d_loss: 0.0142 - g_loss: 2.2039\n",
            "Epoch 254/300\n",
            "32/32 [==============================] - 0s 14ms/step - d_loss: 0.0035 - g_loss: 2.1817\n",
            "Epoch 255/300\n",
            "32/32 [==============================] - 0s 13ms/step - d_loss: -0.0024 - g_loss: 2.2661\n",
            "Epoch 256/300\n",
            "32/32 [==============================] - 0s 14ms/step - d_loss: -0.0176 - g_loss: 2.2527\n",
            "Epoch 257/300\n",
            "32/32 [==============================] - 0s 14ms/step - d_loss: -0.0124 - g_loss: 2.2521\n",
            "Epoch 258/300\n",
            "32/32 [==============================] - 0s 14ms/step - d_loss: -0.0261 - g_loss: 2.3314\n",
            "Epoch 259/300\n",
            "32/32 [==============================] - 0s 14ms/step - d_loss: -0.0418 - g_loss: 2.3612\n",
            "Epoch 260/300\n",
            "32/32 [==============================] - 0s 13ms/step - d_loss: -0.0434 - g_loss: 2.4031\n",
            "Epoch 261/300\n",
            "32/32 [==============================] - 0s 14ms/step - d_loss: -0.0502 - g_loss: 2.4354\n",
            "Epoch 262/300\n",
            "32/32 [==============================] - 0s 13ms/step - d_loss: -0.0670 - g_loss: 2.4583\n",
            "Epoch 263/300\n",
            "32/32 [==============================] - 0s 13ms/step - d_loss: -0.0701 - g_loss: 2.4695\n",
            "Epoch 264/300\n",
            "32/32 [==============================] - 0s 13ms/step - d_loss: -0.0715 - g_loss: 2.4787\n",
            "Epoch 265/300\n",
            "32/32 [==============================] - 0s 14ms/step - d_loss: -0.0754 - g_loss: 2.5122\n",
            "Epoch 266/300\n",
            "32/32 [==============================] - 0s 14ms/step - d_loss: -0.0865 - g_loss: 2.6285\n",
            "Epoch 267/300\n",
            "32/32 [==============================] - 0s 13ms/step - d_loss: -0.0922 - g_loss: 2.6165\n",
            "Epoch 268/300\n",
            "32/32 [==============================] - 0s 13ms/step - d_loss: -0.1010 - g_loss: 2.6160\n",
            "Epoch 269/300\n",
            "32/32 [==============================] - 1s 17ms/step - d_loss: -0.1175 - g_loss: 2.6336\n",
            "Epoch 270/300\n",
            "32/32 [==============================] - 1s 18ms/step - d_loss: -0.1191 - g_loss: 2.6565\n",
            "Epoch 271/300\n",
            "32/32 [==============================] - 1s 18ms/step - d_loss: -0.1221 - g_loss: 2.7442\n",
            "Epoch 272/300\n",
            "32/32 [==============================] - 1s 18ms/step - d_loss: -0.1134 - g_loss: 2.7171\n",
            "Epoch 273/300\n",
            "32/32 [==============================] - 1s 18ms/step - d_loss: -0.1395 - g_loss: 2.7513\n",
            "Epoch 274/300\n",
            "32/32 [==============================] - 1s 20ms/step - d_loss: -0.1618 - g_loss: 2.7537\n",
            "Epoch 275/300\n",
            "32/32 [==============================] - 0s 15ms/step - d_loss: -0.1528 - g_loss: 2.8339\n",
            "Epoch 276/300\n",
            "32/32 [==============================] - 0s 13ms/step - d_loss: -0.1674 - g_loss: 2.8974\n",
            "Epoch 277/300\n",
            "32/32 [==============================] - 0s 14ms/step - d_loss: -0.1465 - g_loss: 2.8477\n",
            "Epoch 278/300\n",
            "32/32 [==============================] - 0s 14ms/step - d_loss: -0.1926 - g_loss: 2.8530\n",
            "Epoch 279/300\n",
            "32/32 [==============================] - 0s 13ms/step - d_loss: -0.1758 - g_loss: 2.8874\n",
            "Epoch 280/300\n",
            "32/32 [==============================] - 0s 14ms/step - d_loss: -0.1808 - g_loss: 2.8912\n",
            "Epoch 281/300\n",
            "32/32 [==============================] - 0s 13ms/step - d_loss: -0.2124 - g_loss: 3.0027\n",
            "Epoch 282/300\n",
            "32/32 [==============================] - 0s 14ms/step - d_loss: -0.2150 - g_loss: 3.0449\n",
            "Epoch 283/300\n",
            "32/32 [==============================] - 0s 13ms/step - d_loss: -0.2261 - g_loss: 3.0675\n",
            "Epoch 284/300\n",
            "32/32 [==============================] - 0s 13ms/step - d_loss: -0.2189 - g_loss: 3.0938\n",
            "Epoch 285/300\n",
            "32/32 [==============================] - 0s 14ms/step - d_loss: -0.2329 - g_loss: 3.1304\n",
            "Epoch 286/300\n",
            "32/32 [==============================] - 0s 13ms/step - d_loss: -0.2393 - g_loss: 3.1827\n",
            "Epoch 287/300\n",
            "32/32 [==============================] - 0s 13ms/step - d_loss: -0.2586 - g_loss: 3.1525\n",
            "Epoch 288/300\n",
            "32/32 [==============================] - 0s 14ms/step - d_loss: -0.2586 - g_loss: 3.2166\n",
            "Epoch 289/300\n",
            "32/32 [==============================] - 0s 13ms/step - d_loss: -0.2869 - g_loss: 3.2132\n",
            "Epoch 290/300\n",
            "32/32 [==============================] - 0s 14ms/step - d_loss: -0.2769 - g_loss: 3.2949\n",
            "Epoch 291/300\n",
            "32/32 [==============================] - 0s 14ms/step - d_loss: -0.2926 - g_loss: 3.2818\n",
            "Epoch 292/300\n",
            "32/32 [==============================] - 0s 13ms/step - d_loss: -0.2943 - g_loss: 3.3329\n",
            "Epoch 293/300\n",
            "32/32 [==============================] - 1s 19ms/step - d_loss: -0.2848 - g_loss: 3.4024\n",
            "Epoch 294/300\n",
            "32/32 [==============================] - 1s 16ms/step - d_loss: -0.3012 - g_loss: 3.3335\n",
            "Epoch 295/300\n",
            "32/32 [==============================] - 1s 19ms/step - d_loss: -0.3188 - g_loss: 3.4789\n",
            "Epoch 296/300\n",
            "32/32 [==============================] - 1s 18ms/step - d_loss: -0.3343 - g_loss: 3.5426\n",
            "Epoch 297/300\n",
            "32/32 [==============================] - 1s 18ms/step - d_loss: -0.3403 - g_loss: 3.5719\n",
            "Epoch 298/300\n",
            "32/32 [==============================] - 1s 21ms/step - d_loss: -0.3619 - g_loss: 3.6470\n",
            "Epoch 299/300\n",
            "32/32 [==============================] - 0s 14ms/step - d_loss: -0.3420 - g_loss: 3.7207\n",
            "Epoch 300/300\n",
            "32/32 [==============================] - 0s 14ms/step - d_loss: -0.3662 - g_loss: 3.7545\n"
          ]
        },
        {
          "data": {
            "text/plain": [
              "<keras.src.callbacks.History at 0x7abda716f4f0>"
            ]
          },
          "execution_count": 23,
          "metadata": {},
          "output_type": "execute_result"
        }
      ],
      "source": [
        "gan = GAN(d_model, g_model, latent_dim=128)\n",
        "\n",
        "gan.compile(\n",
        "    d_optimizer = d_opt,\n",
        "    g_optimizer = g_opt,\n",
        "    loss_fn = loss_function,\n",
        "    )\n",
        "\n",
        "gan.fit(dataset, epochs = 300)"
      ]
    },
    {
      "cell_type": "code",
      "execution_count": null,
      "metadata": {
        "id": "1q_Arh-_DbJD"
      },
      "outputs": [],
      "source": [
        "batch_size=8\n",
        "random_latent_vectors = tf.random.normal(shape=(batch_size, 128))\n",
        "generated_images = g_model(random_latent_vectors)"
      ]
    },
    {
      "cell_type": "code",
      "execution_count": null,
      "metadata": {
        "colab": {
          "base_uri": "https://localhost:8080/",
          "height": 327
        },
        "id": "g-QVuDBZDsyL",
        "outputId": "ddbb25b6-6140-414e-e719-1c8cff6350ed"
      },
      "outputs": [
        {
          "data": {
            "image/png": "[encoded data removed]",
            "text/plain": [
              "<Figure size 600x300 with 8 Axes>"
            ]
          },
          "metadata": {},
          "output_type": "display_data"
        }
      ],
      "source": [
        "import numpy as np\n",
        "import matplotlib.pyplot as plt\n",
        "\n",
        "batch_size=8\n",
        "random_latent_vectors = tf.random.normal(shape=(batch_size, 128))\n",
        "generated_images = g_model(random_latent_vectors)\n",
        "#generated_images = tf.where(generated_images >= 0.5, tf.ones_like(generated_images), tf.zeros_like(generated_images))\n",
        "# Assuming you have a list of 8 generated images named `generated_images`\n",
        "num_samples = len(generated_images)\n",
        "\n",
        "# Create subplot grid\n",
        "num_rows = 2\n",
        "num_cols = 4\n",
        "fig, axes = plt.subplots(num_rows, num_cols, figsize=(6, 3))\n",
        "\n",
        "# Display generated images\n",
        "for i, ax in enumerate(axes.flatten()):\n",
        "    if i < num_samples:\n",
        "        ax.imshow(generated_images[i], cmap='gray')\n",
        "        ax.set_xticks([])\n",
        "        ax.set_yticks([])\n",
        "    else:\n",
        "        ax.axis('off')\n",
        "\n",
        "plt.tight_layout()\n",
        "plt.show()"
      ]
    },
    {
      "cell_type": "code",
      "execution_count": null,
      "metadata": {
        "colab": {
          "base_uri": "https://localhost:8080/",
          "height": 344
        },
        "id": "dCPUz-UFqX7y",
        "outputId": "d6aa4051-74f3-4193-9c1e-2f1dbf0b20d8"
      },
      "outputs": [
        {
          "ename": "ValueError",
          "evalue": "Layer count mismatch when loading weights from file. Model expected 0 layers, found 2 saved layers.",
          "output_type": "error",
          "traceback": [
            "\u001b[0;31m---------------------------------------------------------------------------\u001b[0m",
            "\u001b[0;31mValueError\u001b[0m                                Traceback (most recent call last)",
            "\u001b[0;32m<ipython-input-42-d8c65206d752>\u001b[0m in \u001b[0;36m<cell line: 3>\u001b[0;34m()\u001b[0m\n\u001b[1;32m      1\u001b[0m \u001b[0mmodel\u001b[0m\u001b[0;34m.\u001b[0m\u001b[0mbuild\u001b[0m\u001b[0;34m(\u001b[0m\u001b[0minput_shape\u001b[0m\u001b[0;34m=\u001b[0m\u001b[0;34m(\u001b[0m\u001b[0;36m16\u001b[0m\u001b[0;34m,\u001b[0m \u001b[0;36m128\u001b[0m\u001b[0;34m,\u001b[0m\u001b[0;36m1\u001b[0m\u001b[0;34m)\u001b[0m\u001b[0;34m)\u001b[0m\u001b[0;34m\u001b[0m\u001b[0;34m\u001b[0m\u001b[0m\n\u001b[1;32m      2\u001b[0m \u001b[0;34m\u001b[0m\u001b[0m\n\u001b[0;32m----> 3\u001b[0;31m \u001b[0mmodel\u001b[0m\u001b[0;34m.\u001b[0m\u001b[0mload_weights\u001b[0m\u001b[0;34m(\u001b[0m\u001b[0mpath\u001b[0m\u001b[0;34m)\u001b[0m\u001b[0;34m\u001b[0m\u001b[0;34m\u001b[0m\u001b[0m\n\u001b[0m\u001b[1;32m      4\u001b[0m \u001b[0;34m\u001b[0m\u001b[0m\n",
            "\u001b[0;32m/usr/local/lib/python3.10/dist-packages/keras/src/utils/traceback_utils.py\u001b[0m in \u001b[0;36merror_handler\u001b[0;34m(*args, **kwargs)\u001b[0m\n\u001b[1;32m     68\u001b[0m             \u001b[0;31m# To get the full stack trace, call:\u001b[0m\u001b[0;34m\u001b[0m\u001b[0;34m\u001b[0m\u001b[0m\n\u001b[1;32m     69\u001b[0m             \u001b[0;31m# `tf.debugging.disable_traceback_filtering()`\u001b[0m\u001b[0;34m\u001b[0m\u001b[0;34m\u001b[0m\u001b[0m\n\u001b[0;32m---> 70\u001b[0;31m             \u001b[0;32mraise\u001b[0m \u001b[0me\u001b[0m\u001b[0;34m.\u001b[0m\u001b[0mwith_traceback\u001b[0m\u001b[0;34m(\u001b[0m\u001b[0mfiltered_tb\u001b[0m\u001b[0;34m)\u001b[0m \u001b[0;32mfrom\u001b[0m \u001b[0;32mNone\u001b[0m\u001b[0;34m\u001b[0m\u001b[0;34m\u001b[0m\u001b[0m\n\u001b[0m\u001b[1;32m     71\u001b[0m         \u001b[0;32mfinally\u001b[0m\u001b[0;34m:\u001b[0m\u001b[0;34m\u001b[0m\u001b[0;34m\u001b[0m\u001b[0m\n\u001b[1;32m     72\u001b[0m             \u001b[0;32mdel\u001b[0m \u001b[0mfiltered_tb\u001b[0m\u001b[0;34m\u001b[0m\u001b[0;34m\u001b[0m\u001b[0m\n",
            "\u001b[0;32m/usr/local/lib/python3.10/dist-packages/keras/src/saving/legacy/hdf5_format.py\u001b[0m in \u001b[0;36mload_weights_from_hdf5_group\u001b[0;34m(f, model)\u001b[0m\n\u001b[1;32m    817\u001b[0m     \u001b[0mlayer_names\u001b[0m \u001b[0;34m=\u001b[0m \u001b[0mfiltered_layer_names\u001b[0m\u001b[0;34m\u001b[0m\u001b[0;34m\u001b[0m\u001b[0m\n\u001b[1;32m    818\u001b[0m     \u001b[0;32mif\u001b[0m \u001b[0mlen\u001b[0m\u001b[0;34m(\u001b[0m\u001b[0mlayer_names\u001b[0m\u001b[0;34m)\u001b[0m \u001b[0;34m!=\u001b[0m \u001b[0mlen\u001b[0m\u001b[0;34m(\u001b[0m\u001b[0mfiltered_layers\u001b[0m\u001b[0;34m)\u001b[0m\u001b[0;34m:\u001b[0m\u001b[0;34m\u001b[0m\u001b[0;34m\u001b[0m\u001b[0m\n\u001b[0;32m--> 819\u001b[0;31m         raise ValueError(\n\u001b[0m\u001b[1;32m    820\u001b[0m             \u001b[0;34m\"Layer count mismatch when loading weights from file. \"\u001b[0m\u001b[0;34m\u001b[0m\u001b[0;34m\u001b[0m\u001b[0m\n\u001b[1;32m    821\u001b[0m             \u001b[0;34mf\"Model expected {len(filtered_layers)} layers, found \"\u001b[0m\u001b[0;34m\u001b[0m\u001b[0;34m\u001b[0m\u001b[0m\n",
            "\u001b[0;31mValueError\u001b[0m: Layer count mismatch when loading weights from file. Model expected 0 layers, found 2 saved layers."
          ]
        }
      ],
      "source": [
        "model.build(input_shape=(16, 128,1))\n",
        "\n",
        "model.load_weights(path)\n",
        "\n"
      ]
    },
    {
      "cell_type": "code",
      "execution_count": null,
      "metadata": {
        "colab": {
          "base_uri": "https://localhost:8080/",
          "height": 448
        },
        "id": "xBnFU2kvq2mX",
        "outputId": "19eddd71-08ca-415c-8366-1c8a5cf55a11"
      },
      "outputs": [
        {
          "data": {
            "text/plain": [
              "<matplotlib.image.AxesImage at 0x78721e60c1f0>"
            ]
          },
          "execution_count": 179,
          "metadata": {},
          "output_type": "execute_result"
        },
        {
          "data": {
            "image/png": "[encoded data removed]",
            "text/plain": [
              "<Figure size 640x480 with 1 Axes>"
            ]
          },
          "metadata": {},
          "output_type": "display_data"
        }
      ],
      "source": [
        "batch_size=8\n",
        "random_latent_vectors = tf.random.normal(shape=(batch_size, 128))\n",
        "generated_images = g_model(random_latent_vectors)\n",
        "generated_images = tf.where(generated_images >= 0.5, tf.ones_like(generated_images), tf.zeros_like(generated_images))\n",
        "\n",
        "# Assuming you have a list of 8 generated images named `generated_images`\n",
        "num_samples = len(generated_images)\n",
        "\n",
        "# Create subplot grid\n",
        "plt.imshow(generated_images[0], cmap='gray')"
      ]
    },
    {
      "cell_type": "code",
      "execution_count": null,
      "metadata": {
        "colab": {
          "base_uri": "https://localhost:8080/"
        },
        "id": "AhKuROy7GOG9",
        "outputId": "4998bd98-aa2a-417d-a011-b30671f7a0bd"
      },
      "outputs": [
        {
          "data": {
            "text/plain": [
              "<tf.Tensor: shape=(15, 1), dtype=float32, numpy=\n",
              "array([[1.],\n",
              "       [1.],\n",
              "       [1.],\n",
              "       [1.],\n",
              "       [1.],\n",
              "       [1.],\n",
              "       [1.],\n",
              "       [1.],\n",
              "       [1.],\n",
              "       [1.],\n",
              "       [1.],\n",
              "       [1.],\n",
              "       [1.],\n",
              "       [1.],\n",
              "       [1.]], dtype=float32)>"
            ]
          },
          "execution_count": 140,
          "metadata": {},
          "output_type": "execute_result"
        }
      ],
      "source": [
        "generated_images[0][14]"
      ]
    },
    {
      "cell_type": "markdown",
      "metadata": {
        "id": "1Tz1ojCENoQa"
      },
      "source": [
        "# 2 Channels"
      ]
    },
    {
      "cell_type": "code",
      "execution_count": null,
      "metadata": {
        "colab": {
          "base_uri": "https://localhost:8080/"
        },
        "id": "1lDF7aF0NrlL",
        "outputId": "57978483-98b7-4a2a-a20b-bef2b6f028ec"
      },
      "outputs": [
        {
          "name": "stdout",
          "output_type": "stream",
          "text": [
            "(15, 15)\n",
            "500\n"
          ]
        }
      ],
      "source": [
        "train_images = []\n",
        "\n",
        "for i in range (1,501):\n",
        "  img = cv2.imread(f'Dataset_1st/img_{i}.png')\n",
        "  img = cv2.cvtColor(img, cv2.COLOR_BGR2GRAY)\n",
        "\n",
        "  img = img[129:251, 129:251]\n",
        "  ret, img = cv2.threshold(img, 245, 255, cv2.THRESH_BINARY)\n",
        "  img = img.astype(\"float32\") / 255.0\n",
        "  img = cv2.resize(img, (15,15))\n",
        "  #img = cv2.resize(img, (28,28))\n",
        "  #img = tf.expand_dims(img, axis=-1)\n",
        "  train_images.append(img)\n",
        "\n",
        "print(train_images[2].shape)\n",
        "print(len(train_images))"
      ]
    },
    {
      "cell_type": "code",
      "execution_count": null,
      "metadata": {
        "colab": {
          "base_uri": "https://localhost:8080/",
          "height": 468
        },
        "id": "OfY_vvC3IvWy",
        "outputId": "42f6900d-c1b1-4f76-a9ab-96fac8c0e7bb"
      },
      "outputs": [
        {
          "data": {
            "text/plain": [
              "<matplotlib.image.AxesImage at 0x7981f1342560>"
            ]
          },
          "execution_count": 21,
          "metadata": {},
          "output_type": "execute_result"
        },
        {
          "data": {
            "image/png": "[encoded data removed]",
            "text/plain": [
              "<Figure size 640x480 with 1 Axes>"
            ]
          },
          "metadata": {},
          "output_type": "display_data"
        }
      ],
      "source": [
        "a = np.zeros((15,15,3))\n",
        "J=[]\n",
        "\n",
        "for i in range(250):\n",
        "  a = np.zeros((15,15,3))\n",
        "  a[:,:,0] = train_images[2*i]\n",
        "  a[:,:,1] = train_images[2*i+1]\n",
        "  a[:,:,2] = a[:,:,0]\n",
        "  J.append(a)\n",
        "\n",
        "J[1][:,:,0]\n",
        "plt.imshow(J[1][:,:,2], cmap='gray')"
      ]
    },
    {
      "cell_type": "code",
      "execution_count": null,
      "metadata": {
        "colab": {
          "base_uri": "https://localhost:8080/"
        },
        "id": "rpee9A16Iwto",
        "outputId": "711f1edb-43fc-4c90-8779-cb66b8fa2e8f"
      },
      "outputs": [
        {
          "name": "stdout",
          "output_type": "stream",
          "text": [
            "(16, 15, 15, 3)\n"
          ]
        }
      ],
      "source": [
        "ds = tf.data.Dataset.from_tensor_slices(J)\n",
        "ds = ds.batch(16)\n",
        "ds = ds.shuffle(50)\n",
        "j=[]\n",
        "for element in ds:\n",
        "  j.append(element)\n",
        "\n",
        "print(j[10].shape)"
      ]
    },
    {
      "cell_type": "code",
      "execution_count": null,
      "metadata": {
        "id": "wy1HZn24OQAn"
      },
      "outputs": [],
      "source": [
        "# Discriminator model\n",
        "d_model = Sequential()\n",
        "\n",
        "    # Convolutional layer, from 28x28x1 into 14x14x32 tensor\n",
        "d_model.add(Conv2D(32,\n",
        "               kernel_size=3,\n",
        "               strides=2,\n",
        "               input_shape=(15,15,1),\n",
        "               padding='same'))\n",
        "\n",
        "    # Leaky ReLU activation\n",
        "d_model.add(LeakyReLU(alpha=0.01))\n",
        "\n",
        "    # Convolutional layer, from 14x14x32 into 7x7x64 tensor\n",
        "d_model.add(Conv2D(64,\n",
        "               kernel_size=3,\n",
        "               strides=2,\n",
        "\n",
        "               padding='same'))\n",
        "\n",
        "    # Batch normalization\n",
        "d_model.add(BatchNormalization())\n",
        "\n",
        "    # Leaky ReLU activation\n",
        "d_model.add(LeakyReLU(alpha=0.01))\n",
        "\n",
        "    # Convolutional layer, from 7x7x64 tensor into 3x3x128 tensor\n",
        "d_model.add(Conv2D(128,\n",
        "               kernel_size=3,\n",
        "               strides=2,\n",
        "\n",
        "               padding='same'))\n",
        "\n",
        "    # Batch normalization\n",
        "d_model.add(BatchNormalization())\n",
        "\n",
        "    # Leaky ReLU activation\n",
        "d_model.add(LeakyReLU(alpha=0.01))\n",
        "\n",
        "    # Output layer with sigmoid activation\n",
        "d_model.add(Flatten())\n",
        "d_model.add(Dense(1, activation='sigmoid'))\n",
        "\n",
        "\n",
        "# Create the generator\n",
        "latent_dim = 128\n",
        "g_model = Sequential()\n",
        "\n",
        "  # Reshape input into 7x7x256 tensor via a fully connected layer\n",
        "g_model.add(Dense(256 * 7 * 7, input_dim=latent_dim))\n",
        "g_model.add(Reshape((7, 7, 256)))\n",
        "\n",
        "    # Transposed convolution layer, from 7x7x256 into 14x14x128 tensor\n",
        "g_model.add(Conv2DTranspose(128, kernel_size=3, strides=2, padding='valid'))\n",
        "\n",
        "    # Batch normalization\n",
        "g_model.add(BatchNormalization())\n",
        "\n",
        "    # Leaky ReLU activation\n",
        "g_model.add(LeakyReLU(alpha=0.01))\n",
        "\n",
        "    # Transposed convolution layer, from 14x14x128 to 14x14x64 tensor\n",
        "g_model.add(Conv2DTranspose(64, kernel_size=3, strides=1, padding='same'))\n",
        "\n",
        "    # Batch normalization\n",
        "g_model.add(BatchNormalization())\n",
        "\n",
        "    # Leaky ReLU activation\n",
        "g_model.add(LeakyReLU(alpha=0.01))\n",
        "\n",
        "    # Transposed convolution layer, from 14x14x64 to 28x28x1 tensor\n",
        "g_model.add(Conv2DTranspose(1, kernel_size=3, strides=1, padding='same'))\n",
        "\n",
        "    # Output layer with tanh activation\n",
        "g_model.add(Activation('tanh'))\n"
      ]
    }
  ],
  "metadata": {
    "colab": {
      "collapsed_sections": [
        "0IPoD7hmbxQo",
        "oewo3krpxHDS",
        "tYhcnnzCi4RV",
        "1Tz1ojCENoQa"
      ],
      "provenance": [],
      "authorship_tag": "ABX9TyOBQ/Drom/pK+M13aM+BXrW",
      "include_colab_link": true
    },
    "kernelspec": {
      "display_name": "Python 3",
      "name": "python3"
    },
    "language_info": {
      "name": "python"
    }
  },
  "nbformat": 4,
  "nbformat_minor": 0
}