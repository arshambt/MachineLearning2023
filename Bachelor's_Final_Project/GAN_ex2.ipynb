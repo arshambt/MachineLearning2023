{
  "nbformat": 4,
  "nbformat_minor": 0,
  "metadata": {
    "colab": {
      "provenance": [],
      "authorship_tag": "ABX9TyOpHeRv/tCwHMvX1szAqF26",
      "include_colab_link": true
    },
    "kernelspec": {
      "name": "python3",
      "display_name": "Python 3"
    },
    "language_info": {
      "name": "python"
    }
  },
  "cells": [
    {
      "cell_type": "markdown",
      "metadata": {
        "id": "view-in-github",
        "colab_type": "text"
      },
      "source": [
        "<a href=\"https://colab.research.google.com/github/arshambt/MachineLearning2023/blob/main/Bachelor's_Final_Project/GAN_ex2.ipynb\" target=\"_parent\"><img src=\"https://colab.research.google.com/assets/colab-badge.svg\" alt=\"Open In Colab\"/></a>"
      ]
    },
    {
      "cell_type": "code",
      "execution_count": null,
      "metadata": {
        "id": "RrzXQpiXQdIn"
      },
      "outputs": [],
      "source": [
        "import torch\n",
        "from torch import nn\n",
        "\n",
        "import math\n",
        "import matplotlib.pyplot as plt\n"
      ]
    },
    {
      "cell_type": "code",
      "source": [
        "torch.manual_seed(111)"
      ],
      "metadata": {
        "colab": {
          "base_uri": "https://localhost:8080/"
        },
        "id": "we_hMEvjmGz_",
        "outputId": "e34651f0-1f6d-4d84-d2ce-b999216ea64f"
      },
      "execution_count": null,
      "outputs": [
        {
          "output_type": "execute_result",
          "data": {
            "text/plain": [
              "<torch._C.Generator at 0x7a3f1ff79550>"
            ]
          },
          "metadata": {},
          "execution_count": 2
        }
      ]
    },
    {
      "cell_type": "code",
      "source": [
        "train_data_length = 1024\n",
        "\n",
        "train_data = torch.zeros((train_data_length, 2))\n",
        "\n",
        "train_data[:, 0] = 2 * math.pi * torch.rand(train_data_length)\n",
        "\n",
        "train_data[:, 1] = torch.sin(train_data[:, 0])\n",
        "\n",
        "train_labels = torch.zeros(train_data_length)\n",
        "\n",
        "train_set = [(train_data[i], train_labels[i]) for i in range(train_data_length)]"
      ],
      "metadata": {
        "id": "J8OMAEFDmKRH"
      },
      "execution_count": null,
      "outputs": []
    },
    {
      "cell_type": "code",
      "source": [
        "plt.plot(train_data[:, 0], train_data[:, 1], \".\")\n"
      ],
      "metadata": {
        "colab": {
          "base_uri": "https://localhost:8080/",
          "height": 447
        },
        "id": "bYJcHJUcohyK",
        "outputId": "b965bbe3-1dae-4ce0-ad4a-e65d1daa8d40"
      },
      "execution_count": null,
      "outputs": [
        {
          "output_type": "execute_result",
          "data": {
            "text/plain": [
              "[<matplotlib.lines.Line2D at 0x7a3e7a918940>]"
            ]
          },
          "metadata": {},
          "execution_count": 4
        },
        {
          "output_type": "display_data",
          "data": {
            "text/plain": [
              "<Figure size 640x480 with 1 Axes>"
            ],
            "image/png": "[encoded data removed]"
          },
          "metadata": {}
        }
      ]
    },
    {
      "cell_type": "code",
      "source": [
        "batch_size = 32\n",
        "train_loader = torch.utils.data.DataLoader(train_set, batch_size=batch_size, shuffle=True)"
      ],
      "metadata": {
        "id": "YYmd7fXwp9B2"
      },
      "execution_count": null,
      "outputs": []
    },
    {
      "cell_type": "code",
      "source": [
        "class Discriminator(nn.Module):\n",
        "\n",
        "    def __init__(self):\n",
        "\n",
        "        super().__init__()\n",
        "\n",
        "        self.model = nn.Sequential(\n",
        "\n",
        "            nn.Linear(2, 256),\n",
        "\n",
        "            nn.ReLU(),\n",
        "\n",
        "            nn.Dropout(0.3),\n",
        "\n",
        "            nn.Linear(256, 128),\n",
        "\n",
        "            nn.ReLU(),\n",
        "\n",
        "            nn.Dropout(0.3),\n",
        "\n",
        "            nn.Linear(128, 64),\n",
        "\n",
        "            nn.ReLU(),\n",
        "\n",
        "            nn.Dropout(0.3),\n",
        "\n",
        "            nn.Linear(64, 1),\n",
        "\n",
        "            nn.Sigmoid(),\n",
        "\n",
        "        )\n",
        "\n",
        "\n",
        "    def forward(self, x):\n",
        "\n",
        "        output = self.model(x)\n",
        "\n",
        "        return output"
      ],
      "metadata": {
        "id": "uVpnntBoqP_1"
      },
      "execution_count": null,
      "outputs": []
    },
    {
      "cell_type": "code",
      "source": [
        "discriminator = Discriminator()"
      ],
      "metadata": {
        "id": "ryx27MyNqWQK"
      },
      "execution_count": null,
      "outputs": []
    },
    {
      "cell_type": "code",
      "source": [
        "class Generator(nn.Module):\n",
        "\n",
        "    def __init__(self):\n",
        "\n",
        "        super().__init__()\n",
        "\n",
        "        self.model = nn.Sequential(\n",
        "\n",
        "            nn.Linear(2, 16),\n",
        "\n",
        "            nn.ReLU(),\n",
        "\n",
        "            nn.Linear(16, 32),\n",
        "\n",
        "            nn.ReLU(),\n",
        "\n",
        "            nn.Linear(32, 2),\n",
        "\n",
        "        )\n",
        "\n",
        "\n",
        "    def forward(self, x):\n",
        "\n",
        "        output = self.model(x)\n",
        "\n",
        "        return output\n",
        "\n",
        "\n",
        "generator = Generator()"
      ],
      "metadata": {
        "id": "hOa_VI-PqgJQ"
      },
      "execution_count": null,
      "outputs": []
    },
    {
      "cell_type": "code",
      "source": [
        "lr = 0.001\n",
        "\n",
        "num_epochs = 300\n",
        "\n",
        "loss_function = nn.BCELoss()"
      ],
      "metadata": {
        "id": "m5cmvfzdqhpi"
      },
      "execution_count": null,
      "outputs": []
    },
    {
      "cell_type": "code",
      "source": [
        "optimizer_discriminator = torch.optim.Adam(discriminator.parameters(), lr=lr)\n",
        "\n",
        "optimizer_generator = torch.optim.Adam(generator.parameters(), lr=lr)"
      ],
      "metadata": {
        "id": "UsQOYKj0qlxb"
      },
      "execution_count": null,
      "outputs": []
    },
    {
      "cell_type": "code",
      "source": [
        "for epoch in range(num_epochs):\n",
        "\n",
        "    for n, (real_samples, _) in enumerate(train_loader):\n",
        "\n",
        "        # Data for training the discriminator\n",
        "\n",
        "        real_samples_labels = torch.ones((batch_size, 1))\n",
        "\n",
        "        latent_space_samples = torch.randn((batch_size, 2))\n",
        "\n",
        "        generated_samples = generator(latent_space_samples)\n",
        "\n",
        "        generated_samples_labels = torch.zeros((batch_size, 1))\n",
        "\n",
        "        all_samples = torch.cat((real_samples, generated_samples))\n",
        "\n",
        "        all_samples_labels = torch.cat(\n",
        "\n",
        "            (real_samples_labels, generated_samples_labels)\n",
        "\n",
        "        )\n",
        "\n",
        "\n",
        "        # Training the discriminator\n",
        "\n",
        "        discriminator.zero_grad()\n",
        "\n",
        "        output_discriminator = discriminator(all_samples)\n",
        "\n",
        "        loss_discriminator = loss_function(\n",
        "\n",
        "            output_discriminator, all_samples_labels)\n",
        "\n",
        "        loss_discriminator.backward()\n",
        "\n",
        "        optimizer_discriminator.step()\n",
        "\n",
        "\n",
        "        # Data for training the generator\n",
        "\n",
        "        latent_space_samples = torch.randn((batch_size, 2))\n",
        "\n",
        "\n",
        "        # Training the generator\n",
        "\n",
        "        generator.zero_grad()\n",
        "\n",
        "        generated_samples = generator(latent_space_samples)\n",
        "\n",
        "        output_discriminator_generated = discriminator(generated_samples)\n",
        "\n",
        "        loss_generator = loss_function(\n",
        "\n",
        "            output_discriminator_generated, real_samples_labels\n",
        "\n",
        "        )\n",
        "\n",
        "        loss_generator.backward()\n",
        "\n",
        "        optimizer_generator.step()\n",
        "\n",
        "\n",
        "        # Show loss\n",
        "\n",
        "        if epoch % 10 == 0 and n == batch_size - 1:\n",
        "\n",
        "            print(f\"Epoch: {epoch} Loss D.: {loss_discriminator}\")\n",
        "\n",
        "            print(f\"Epoch: {epoch} Loss G.: {loss_generator}\")"
      ],
      "metadata": {
        "colab": {
          "base_uri": "https://localhost:8080/"
        },
        "id": "QZDB4dRtqsce",
        "outputId": "27c2f6be-c980-4ed9-d968-56d36d88dad9"
      },
      "execution_count": null,
      "outputs": [
        {
          "output_type": "stream",
          "name": "stdout",
          "text": [
            "Epoch: 0 Loss D.: 0.697433590888977\n",
            "Epoch: 0 Loss G.: 0.7438103556632996\n",
            "Epoch: 10 Loss D.: 0.7066745758056641\n",
            "Epoch: 10 Loss G.: 0.6996892690658569\n",
            "Epoch: 20 Loss D.: 0.6768782734870911\n",
            "Epoch: 20 Loss G.: 0.7811153531074524\n",
            "Epoch: 30 Loss D.: 0.6506693363189697\n",
            "Epoch: 30 Loss G.: 0.7201287746429443\n",
            "Epoch: 40 Loss D.: 0.6782293319702148\n",
            "Epoch: 40 Loss G.: 0.7867723703384399\n"
          ]
        }
      ]
    },
    {
      "cell_type": "code",
      "source": [
        "latent_space_samples = torch.randn(100, 2)\n",
        "generated_samples = generator(latent_space_samples)\n"
      ],
      "metadata": {
        "id": "2pCRhP1jquGV"
      },
      "execution_count": null,
      "outputs": []
    },
    {
      "cell_type": "code",
      "source": [
        "generated_samples = generated_samples.detach()\n",
        "plt.plot(generated_samples[:, 0], generated_samples[:, 1], \".\")\n"
      ],
      "metadata": {
        "colab": {
          "base_uri": "https://localhost:8080/",
          "height": 447
        },
        "id": "pqWIxHEtrD7x",
        "outputId": "a4ca57ff-a707-45d2-ef29-fddf2db9fa7b"
      },
      "execution_count": null,
      "outputs": [
        {
          "output_type": "execute_result",
          "data": {
            "text/plain": [
              "[<matplotlib.lines.Line2D at 0x7a3e64fa4040>]"
            ]
          },
          "metadata": {},
          "execution_count": 28
        },
        {
          "output_type": "display_data",
          "data": {
            "text/plain": [
              "<Figure size 640x480 with 1 Axes>"
            ],
            "image/png": "[encoded data removed]"
          },
          "metadata": {}
        }
      ]
    }
  ]
}